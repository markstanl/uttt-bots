{
 "cells": [
  {
   "metadata": {},
   "cell_type": "markdown",
   "source": [
    "# UTTTAI Dataset Processing and Upload\n",
    "The following notebook processes the UTTTAI dataset, refactors and combines it, and uploads it to Hugging Face.\n",
    "\n",
    "## Changes\n",
    "Initially the data was stored in individual .txt files for each depth. Following a proprietary format, using an unconventional board indexing method (documented in the [utttai.md](utttai_conversion/utttai.md) file in this repository). We therefore decided to refactor the data. It updates the indexing data to the standard bitboard format, and combines the data into a single .parquet file, with an extra column for the depth of the data. The `data_refactoring.py` is what transforms the data from the proprietary format to the jsonl format. This is specifically converting it to a .parquet file, and uploading it."
   ],
   "id": "3bbc8d1b5d85f01c"
  },
  {
   "metadata": {
    "ExecuteTime": {
     "end_time": "2025-03-02T05:15:01.429747Z",
     "start_time": "2025-03-02T05:15:01.413495Z"
    }
   },
   "cell_type": "code",
   "source": [
    "# imports\n",
    "import json\n",
    "import os\n",
    "import pandas as pd\n",
    "import pyarrow as pa\n",
    "import pyarrow.parquet as pq"
   ],
   "id": "3bcb0ae206de9aed",
   "outputs": [],
   "execution_count": 10
  },
  {
   "metadata": {
    "ExecuteTime": {
     "end_time": "2025-03-01T22:26:30.558034Z",
     "start_time": "2025-03-01T22:26:30.546156Z"
    }
   },
   "cell_type": "code",
   "source": [
    "# function to load the data from a jsonl file as an object\n",
    "def load_jsonl(file_path):\n",
    "    data = []\n",
    "    with open(file_path, 'r') as file:\n",
    "        for line in file:\n",
    "            depth = int(file.name[-8:-6])\n",
    "            try:\n",
    "                json_object = json.loads(line)\n",
    "                json_object['depth'] = depth\n",
    "                data.append(json_object)\n",
    "            except json.JSONDecodeError:\n",
    "                print(f\"Skipping invalid JSON line: {line.strip()}\")\n",
    "    return data"
   ],
   "id": "afc29dc14df915aa",
   "outputs": [],
   "execution_count": 4
  },
  {
   "metadata": {
    "ExecuteTime": {
     "end_time": "2025-03-01T22:26:19.960749Z",
     "start_time": "2025-03-01T22:26:19.948492Z"
    }
   },
   "cell_type": "code",
   "source": [
    "# loads all jsonl from a directory\n",
    "def load_directory(directory_path) -> list[dict]:\n",
    "    data = []\n",
    "    for file in os.listdir(directory_path):\n",
    "        data.extend(load_jsonl(os.path.join(directory_path, file)))\n",
    "    return data"
   ],
   "id": "3b3d0216161003f3",
   "outputs": [],
   "execution_count": 2
  },
  {
   "metadata": {
    "ExecuteTime": {
     "end_time": "2025-03-01T23:33:02.089736Z",
     "start_time": "2025-03-01T22:26:32.626557Z"
    }
   },
   "cell_type": "code",
   "source": [
    "# load the data from the directory, initialize the paths\n",
    "current_directory = os.getcwd()\n",
    "path = os.path.join(current_directory, 'data\\\\stage1-mcts-refactored')\n",
    "data = load_directory(path)\n",
    "file_path = os.path.join(path, 'stage1-mcts.parquet')\n",
    "\n",
    "print('done')"
   ],
   "id": "9a4ae68f4e730d8d",
   "outputs": [
    {
     "name": "stdout",
     "output_type": "stream",
     "text": [
      "done\n"
     ]
    }
   ],
   "execution_count": 5
  },
  {
   "metadata": {
    "jupyter": {
     "is_executing": true
    }
   },
   "cell_type": "code",
   "source": [
    "# loads the data into a table and writes it to a parquet file\n",
    "table = pa.Table.from_pylist(data)\n",
    "pq.write_table(table, file_path)"
   ],
   "id": "d29a317ed06fb718",
   "outputs": [],
   "execution_count": null
  },
  {
   "metadata": {},
   "cell_type": "markdown",
   "source": "",
   "id": "44dcb8f1c728549d"
  },
  {
   "metadata": {
    "jupyter": {
     "is_executing": true
    }
   },
   "cell_type": "code",
   "source": [
    "# uploads\n",
    "from huggingface_hub import HfApi\n",
    "\n",
    "api = HfApi()\n",
    "api.upload_file(\n",
    "    path_or_fileobj='data/stage1-mcts-refactored/stage1-mcts.parquet',\n",
    "    path_in_repo='stage1-mcts.parquet',\n",
    "    repo_id='markstanl/u3t',\n",
    "    repo_type='dataset'\n",
    ")\n",
    "\n",
    "api.upload_file(\n",
    "    path_or_fileobj='data/stage1-mcts-refactored/dataset_infos.json',\n",
    "    path_in_repo='dataset_infos.json',\n",
    "    repo_id='markstanl/u3t',\n",
    "    repo_type='dataset'\n",
    ")"
   ],
   "id": "71a1bcb6dce616b2",
   "outputs": [],
   "execution_count": null
  }
 ],
 "metadata": {
  "kernelspec": {
   "display_name": "Python 3",
   "language": "python",
   "name": "python3"
  },
  "language_info": {
   "codemirror_mode": {
    "name": "ipython",
    "version": 2
   },
   "file_extension": ".py",
   "mimetype": "text/x-python",
   "name": "python",
   "nbconvert_exporter": "python",
   "pygments_lexer": "ipython2",
   "version": "2.7.6"
  }
 },
 "nbformat": 4,
 "nbformat_minor": 5
}
