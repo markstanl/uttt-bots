{
 "cells": [
  {
   "metadata": {},
   "cell_type": "markdown",
   "source": [
    "# Splitting\n",
    "This code is what I will be using to split the data into train test and validation sets. We will be doing it to get an even distribution along the depth of the code"
   ],
   "id": "534033991d3dd6fc"
  },
  {
   "metadata": {
    "ExecuteTime": {
     "end_time": "2025-03-04T19:28:24.254629Z",
     "start_time": "2025-03-04T19:28:21.380076Z"
    }
   },
   "cell_type": "code",
   "source": [
    "# imports\n",
    "import numpy as np\n",
    "import pandas as pd\n",
    "import pyarrow as pa\n",
    "import pyarrow.parquet as pq\n",
    "from huggingface_hub import HfApi\n",
    "from datasets import load_dataset\n",
    "\n",
    "import os\n",
    "import random\n",
    "import json"
   ],
   "id": "ba931364021182ba",
   "outputs": [],
   "execution_count": 6
  },
  {
   "metadata": {
    "ExecuteTime": {
     "end_time": "2025-03-04T17:00:34.873396Z",
     "start_time": "2025-03-04T17:00:19.191336Z"
    }
   },
   "cell_type": "code",
   "source": [
    "cwd = os.getcwd()\n",
    "file_path = os.path.join(cwd, \"data/stage1-mcts-refactored/stage1-mcts.parquet\")\n",
    "table = pq.read_table(file_path)\n"
   ],
   "id": "ba6faa1c38274fd6",
   "outputs": [],
   "execution_count": 14
  },
  {
   "metadata": {
    "ExecuteTime": {
     "end_time": "2025-03-04T17:00:34.977127Z",
     "start_time": "2025-03-04T17:00:34.932007Z"
    }
   },
   "cell_type": "code",
   "source": "depth_counts = {0: 18, 1: 360, 2: 1329, 3: 4015, 4: 12504, 5: 37510, 6: 112584, 7: 128791, 8: 145823, 9: 157765, 10: 166838, 11: 166997, 12: 167103, 13: 167212, 14: 167349, 15: 167520, 16: 167626, 17: 167711, 18: 167835, 19: 167898, 20: 168031, 21: 168190, 22: 168351, 23: 168508, 24: 168646, 25: 168779, 26: 168927, 27: 169073, 28: 169222, 29: 169390, 30: 169524, 31: 169651, 32: 169766, 33: 169853, 34: 169919, 35: 169906, 36: 169875, 37: 169545, 38: 169225, 39: 168313, 40: 167381, 41: 165305, 42: 163596, 43: 159999, 44: 157046, 45: 151488, 46: 147262, 47: 139541, 48: 133786, 49: 124429, 50: 117479, 51: 107041, 52: 98868, 53: 87729, 54: 79050, 55: 68179, 56: 59294, 57: 49391, 58: 41341, 59: 32931, 60: 26411, 61: 19935, 62: 14964, 63: 10802, 64: 7684, 65: 5187, 66: 3397, 67: 2123, 68: 1294, 69: 753, 70: 424, 71: 218, 72: 108, 73: 47, 74: 19, 75: 5, 76: 1}",
   "id": "b6c8022545e9a905",
   "outputs": [],
   "execution_count": 15
  },
  {
   "metadata": {
    "ExecuteTime": {
     "end_time": "2025-03-04T17:07:01.476039Z",
     "start_time": "2025-03-04T17:06:39.234274Z"
    }
   },
   "cell_type": "code",
   "source": [
    "depth_col = table[\"depth\"]\n",
    "\n",
    "unique_depths = list(depth_counts.keys())\n",
    "\n",
    "# this works as row indices, each index corresponds to a row in the table\n",
    "row_indices = list(range(table.num_rows))\n",
    "random.shuffle(row_indices)\n",
    "\n",
    "depth_indices = {depth: [] for depth in unique_depths}\n",
    "for i in row_indices:\n",
    "    depth = depth_col[i].as_py()\n",
    "    depth_indices[depth].append(i)\n"
   ],
   "id": "56a2adb0e5c50ccc",
   "outputs": [
    {
     "name": "stdout",
     "output_type": "stream",
     "text": [
      "1\n",
      "2\n",
      "3\n"
     ]
    }
   ],
   "execution_count": 19
  },
  {
   "metadata": {
    "ExecuteTime": {
     "end_time": "2025-03-04T17:07:40.510437Z",
     "start_time": "2025-03-04T17:07:40.482665Z"
    }
   },
   "cell_type": "code",
   "source": [
    "# validate the indices\n",
    "print(depth_indices[0])\n",
    "print(depth_indices[1])\n",
    "print(depth_indices[2])"
   ],
   "id": "4f748cd72b705784",
   "outputs": [
    {
     "name": "stdout",
     "output_type": "stream",
     "text": [
      "[0, 3, 12, 2, 6, 9, 5, 1, 16, 15, 13, 17, 14, 8, 10, 7, 11, 4]\n",
      "[122, 221, 159, 191, 247, 169, 21, 35, 177, 20, 75, 19, 217, 49, 234, 348, 362, 315, 195, 97, 47, 287, 179, 55, 87, 121, 175, 116, 95, 196, 311, 305, 147, 91, 151, 189, 37, 78, 90, 190, 270, 126, 286, 325, 228, 118, 368, 231, 327, 45, 182, 365, 240, 252, 224, 33, 192, 63, 61, 70, 149, 62, 107, 41, 24, 213, 359, 299, 134, 370, 290, 125, 193, 343, 242, 330, 233, 57, 371, 109, 165, 40, 261, 374, 218, 74, 136, 337, 38, 65, 155, 56, 238, 227, 350, 264, 262, 319, 239, 265, 351, 232, 201, 369, 52, 260, 86, 104, 29, 188, 274, 367, 150, 375, 25, 103, 211, 110, 199, 148, 296, 22, 145, 84, 114, 320, 324, 210, 332, 297, 222, 212, 318, 279, 289, 80, 364, 141, 340, 23, 144, 309, 166, 66, 146, 372, 173, 248, 263, 275, 214, 259, 46, 241, 139, 361, 170, 200, 284, 163, 202, 58, 124, 342, 28, 373, 243, 83, 356, 308, 292, 267, 154, 72, 105, 339, 27, 181, 307, 172, 76, 312, 54, 226, 335, 18, 225, 132, 273, 357, 360, 316, 96, 352, 295, 301, 254, 183, 229, 209, 376, 313, 336, 112, 31, 98, 328, 278, 349, 99, 164, 131, 67, 291, 160, 257, 85, 64, 93, 194, 127, 184, 129, 322, 269, 186, 111, 123, 167, 120, 323, 156, 130, 43, 68, 366, 347, 249, 377, 48, 272, 162, 283, 245, 303, 236, 253, 293, 281, 353, 208, 53, 94, 71, 143, 102, 185, 223, 140, 39, 235, 333, 59, 92, 60, 142, 135, 152, 219, 271, 81, 258, 138, 101, 88, 26, 204, 256, 34, 113, 108, 294, 206, 331, 106, 128, 358, 285, 268, 363, 276, 255, 300, 178, 304, 50, 133, 355, 171, 215, 220, 354, 310, 137, 205, 321, 79, 216, 119, 30, 326, 282, 288, 158, 153, 36, 157, 244, 207, 277, 334, 197, 266, 115, 346, 298, 44, 176, 77, 100, 89, 329, 161, 341, 344, 203, 345, 317, 250, 198, 180, 280, 230, 251, 51, 246, 42, 82, 117, 237, 73, 174, 32, 187, 338, 168, 69, 302, 314, 306]\n",
      "[887, 1314, 1122, 504, 944, 1436, 1100, 580, 1360, 957, 846, 763, 1235, 969, 599, 1586, 1128, 1369, 1022, 590, 867, 1007, 1578, 477, 574, 1225, 1279, 1566, 1313, 617, 725, 1066, 1405, 1449, 642, 1575, 1119, 838, 1420, 821, 1058, 1487, 848, 1559, 1266, 641, 1008, 1539, 407, 556, 1601, 566, 577, 1286, 385, 1215, 1021, 937, 434, 774, 571, 1340, 1145, 1167, 520, 1565, 1407, 1097, 1344, 892, 1554, 461, 1144, 1120, 1613, 1056, 864, 1648, 1445, 791, 1401, 1343, 1515, 1242, 497, 1310, 1544, 811, 1116, 1154, 629, 1403, 1620, 419, 1378, 1046, 1685, 1057, 897, 494, 1355, 465, 789, 995, 485, 752, 1010, 1587, 1700, 454, 1320, 592, 557, 685, 618, 1525, 585, 961, 920, 569, 1169, 1398, 840, 1130, 533, 1570, 1306, 686, 1064, 1676, 718, 670, 502, 392, 656, 1507, 1496, 1332, 1389, 705, 837, 1009, 1121, 1226, 628, 1540, 411, 876, 1269, 1240, 1564, 526, 872, 1443, 614, 813, 1123, 1373, 703, 476, 946, 1497, 545, 862, 1605, 1111, 1706, 538, 1542, 1410, 992, 743, 947, 697, 1131, 1612, 780, 1028, 672, 1602, 1055, 1363, 1455, 1508, 1188, 790, 894, 723, 1317, 1207, 1141, 430, 737, 909, 1616, 842, 1143, 1572, 1015, 1630, 1358, 1180, 1197, 855, 496, 799, 1338, 1660, 1258, 1353, 827, 948, 1316, 1365, 1560, 1315, 1524, 1683, 1418, 582, 1192, 1038, 1659, 1300, 1655, 1118, 1052, 1634, 551, 1270, 534, 537, 1701, 1020, 1654, 1635, 1139, 1308, 988, 1014, 1277, 1126, 493, 525, 609, 1385, 378, 1395, 1693, 1652, 523, 822, 818, 467, 762, 1388, 666, 1072, 535, 655, 1521, 1488, 1615, 1198, 929, 558, 1356, 1674, 588, 1149, 606, 1089, 671, 507, 500, 1247, 980, 712, 417, 851, 1088, 993, 936, 985, 1098, 1495, 637, 776, 431, 1053, 1070, 1705, 1501, 626, 696, 1441, 421, 1481, 1297, 447, 1133, 1577, 646, 923, 1689, 747, 1406, 1252, 702, 484, 564, 384, 529, 1662, 661, 709, 1499, 1217, 819, 1622, 393, 955, 825, 1061, 856, 1362, 1241, 1421, 1462, 1432, 1427, 792, 1018, 455, 1073, 408, 1530, 1680, 1598, 1324, 748, 1090, 1415, 869, 512, 910, 753, 1361, 1390, 546, 781, 460, 448, 1076, 1592, 1342, 425, 783, 1134, 1041, 1176, 913, 508, 503, 1238, 859, 673, 1012, 1312, 505, 1595, 852, 1397, 922, 1583, 1404, 1287, 410, 1518, 1054, 1536, 1478, 724, 1619, 1665, 597, 644, 1029, 1250, 1639, 1081, 1695, 1034, 1080, 805, 1399, 700, 554, 1505, 1494, 1513, 1349, 608, 684, 1690, 1484, 1333, 579, 595, 662, 814, 596, 1280, 881, 1631, 1457, 1425, 1593, 1643, 1628, 800, 970, 717, 1272, 1394, 689, 1110, 451, 843, 1400, 1114, 598, 1522, 1155, 509, 1302, 1049, 1633, 1109, 1649, 1245, 1379, 925, 1142, 1687, 555, 518, 738, 1105, 1132, 889, 1381, 788, 1156, 1563, 1259, 1257, 532, 1228, 1026, 616, 1546, 1063, 472, 382, 633, 1185, 1129, 1431, 1675, 1335, 1458, 1686, 1393, 1579, 766, 903, 536, 1230, 1166, 1461, 1065, 1451, 886, 974, 1384, 491, 758, 1003, 984, 1439, 1002, 1531, 440, 971, 1249, 773, 643, 963, 1212, 576, 1322, 772, 1372, 782, 1423, 1292, 983, 884, 1273, 636, 834, 510, 1408, 420, 1386, 1153, 1642, 707, 785, 1104, 483, 1168, 1091, 1199, 1416, 1588, 1016, 1498, 395, 1626, 1374, 381, 1336, 1202, 1604, 1113, 482, 1447, 1159, 589, 1548, 912, 809, 1161, 1610, 390, 638, 1500, 1106, 1594, 801, 1453, 471, 1366, 844, 1244, 1210, 901, 1491, 904, 1246, 1679, 1284, 1621, 932, 1582, 1370, 1471, 739, 398, 713, 1191, 820, 1493, 816, 1694, 1581, 1222, 498, 854, 1085, 1603, 1664, 1184, 1677, 1060, 668, 1696, 1571, 896, 1220, 690, 1017, 1044, 521, 406, 572, 405, 1661, 611, 1092, 1667, 1136, 1140, 1183, 1102, 1298, 547, 1174, 1479, 1187, 1607, 1429, 691, 1438, 1148, 981, 900, 1036, 714, 802, 1282, 1251, 833, 1001, 930, 1175, 1396, 531, 634, 746, 1345, 796, 931, 1051, 379, 1514, 468, 1473, 1657, 1223, 669, 1519, 675, 517, 1077, 933, 1196, 832, 1348, 380, 1248, 1574, 1627, 761, 439, 474, 1434, 1485, 1376, 1537, 754, 1206, 987, 1203, 687, 1204, 1331, 623, 1209, 1237, 1391, 1033, 704, 456, 1452, 1069, 726, 1254, 1469, 1412, 639, 528, 445, 1550, 807, 734, 706, 760, 1698, 938, 548, 1193, 870, 1328, 624, 443, 1101, 1558, 990, 403, 653, 847, 956, 1682, 480, 1448, 640, 1475, 1050, 958, 1470, 1040, 615, 414, 1086, 424, 1506, 888, 464, 1422, 777, 1699, 475, 399, 1467, 924, 578, 1339, 1290, 916, 560, 539, 1164, 457, 968, 418, 1200, 1208, 1037, 630, 501, 905, 1460, 441, 649, 1067, 959, 1589, 836, 806, 1509, 1071, 1510, 1078, 552, 1644, 1480, 1557, 570, 1402, 1472, 1623, 1042, 863, 997, 1253, 1653, 797, 1463, 678, 600, 1311, 1327, 591, 635, 427, 631, 654, 1636, 1359, 387, 650, 1107, 1658, 383, 1221, 449, 745, 1669, 803, 1382, 1538, 657, 1171, 1321, 1278, 541, 543, 769, 1099, 1031, 1234, 437, 1023, 907, 1289, 1590, 1039, 1504, 699, 890, 1087, 720, 683, 1352, 1043, 1629, 1553, 1181, 1334, 719, 865, 1019, 928, 1430, 701, 581, 1413, 1523, 1599, 1584, 1227, 1476, 812, 1288, 515, 1127, 715, 1502, 413, 435, 1075, 874, 835, 490, 544, 965, 1437, 1264, 953, 607, 991, 839, 940, 488, 1189, 593, 994, 1474, 951, 845, 553, 540, 1283, 1597, 730, 1079, 1125, 899, 934, 926, 426, 1464, 1541, 1218, 1646, 506, 1162, 1229, 756, 764, 1182, 499, 1446, 604, 908, 1417, 1704, 1562, 918, 1512, 438, 885, 1371, 1617, 594, 1341, 412, 1681, 749, 1158, 1303, 1678, 612, 1392, 396, 1576, 793, 989, 692, 433, 914, 492, 823, 613, 1219, 1214, 1160, 1435, 1151, 861, 729, 1095, 1205, 778, 1093, 1068, 1641, 458, 1115, 1074, 784, 966, 648, 550, 388, 463, 973, 446, 1304, 400, 1691, 1255, 688, 1256, 1383, 1059, 1117, 728, 710, 1239, 1433, 1645, 1492, 583, 880, 402, 1409, 921, 1528, 1380, 442, 1179, 1596, 549, 1569, 409, 561, 1084, 462, 682, 1585, 830, 1232, 603, 1147, 787, 1318, 423, 473, 1666, 620, 1534, 1697, 755, 1351, 945, 979, 573, 432, 416, 952, 481, 1632, 1465, 860, 1024, 1490, 1112, 986, 771, 1045, 1668, 902, 757, 1011, 808, 866, 478, 660, 849, 1411, 1684, 415, 826, 1013, 1213, 391, 1375, 1271, 879, 742, 625, 1580, 605, 1456, 1545, 978, 906, 1354, 516, 632, 1543, 610, 679, 727, 1103, 394, 1137, 898, 645, 466, 422, 1520, 527, 1172, 1503, 622, 1319, 695, 487, 759, 949, 647, 815, 871, 927, 1173, 1268, 1367, 469, 1309, 1201, 873, 1030, 1573, 389, 1637, 562, 1624, 1516, 1299, 1608, 513, 731, 1692, 1035, 1526, 1262, 1556, 1267, 1350, 1567, 911, 1663, 877, 1482, 1083, 1529, 1108, 786, 998, 694, 831, 1703, 401, 1307, 1614, 1486, 824, 1150, 602, 1459, 1330, 722, 568, 436, 559, 1444, 565, 850, 1511, 1186, 429, 1296, 1224, 1138, 1600, 627, 939, 1535, 941, 587, 960, 954, 975, 1702, 765, 1611, 943, 664, 1146, 919, 665, 882, 1236, 530, 1260, 1231, 962, 768, 663, 450, 716, 524, 1454, 1387, 495, 1233, 804, 1606, 652, 586, 770, 1032, 1291, 680, 751, 891, 1082, 1442, 1165, 1006, 1672, 1346, 1337, 1533, 977, 1004, 1466, 828, 1647, 708, 659, 857, 674, 935, 1263, 428, 1190, 853, 1609, 1048, 779, 658, 1591, 386, 1561, 1261, 817, 1062, 1625, 1527, 917, 1670, 1243, 489, 681, 736, 1323, 795, 893, 452, 1549, 721, 1047, 567, 1005, 575, 841, 486, 693, 972, 1301, 470, 1276, 1477, 1424, 1426, 1294, 444, 735, 858, 732, 1000, 740, 1555, 459, 453, 1170, 619, 676, 711, 895, 750, 1552, 883, 741, 982, 1329, 794, 798, 744, 1419, 542, 1152, 878, 1368, 1178, 621, 1414, 1325, 810, 1651, 1468, 942, 1532, 698, 1440, 1295, 1275, 1489, 1281, 479, 677, 868, 667, 1650, 519, 733, 1135, 1688, 775, 1377, 1211, 1547, 767, 829, 1285, 1656, 1177, 651, 1274, 1163, 996, 1025, 1305, 967, 514, 1671, 1094, 1551, 976, 1347, 563, 1357, 1293, 1157, 999, 1568, 1326, 1450, 1618, 397, 1195, 1265, 601, 1216, 1517, 1194, 1673, 1027, 1096, 404, 1124, 1428, 522, 950, 1364, 875, 1640, 584, 915, 511, 964, 1483, 1638]\n"
     ]
    }
   ],
   "execution_count": 20
  },
  {
   "metadata": {
    "ExecuteTime": {
     "end_time": "2025-03-04T17:09:24.197271Z",
     "start_time": "2025-03-04T17:09:24.187947Z"
    }
   },
   "cell_type": "code",
   "source": [
    "test_split = 0.2\n",
    "validation_split = 0.1\n",
    "\n",
    "test_split_count = {d: int(depth_counts[d] * test_split) for d in depth_counts}\n",
    "validation_split_count = {d: int(depth_counts[d] * validation_split) for d in depth_counts}\n",
    "\n",
    "# 75 will have some special cases\n",
    "test_split_count[75] = 1\n",
    "validation_split_count[75] = 1"
   ],
   "id": "bf406f4d3393291b",
   "outputs": [],
   "execution_count": 21
  },
  {
   "metadata": {
    "ExecuteTime": {
     "end_time": "2025-03-04T17:09:47.427230Z",
     "start_time": "2025-03-04T17:09:45.025484Z"
    }
   },
   "cell_type": "code",
   "source": [
    "# set up indices lists\n",
    "train_indices, val_indices, test_indices = [], [], []\n",
    "for depth, indices in depth_indices.items():\n",
    "    test_indices.extend(indices[:test_split_count[depth]])\n",
    "    val_indices.extend(indices[test_split_count[depth]:test_split_count[depth] + validation_split_count[depth]])\n",
    "    train_indices.extend(indices[test_split_count[depth] + validation_split_count[depth]:])"
   ],
   "id": "e1947766a56b7fb4",
   "outputs": [],
   "execution_count": 22
  },
  {
   "metadata": {
    "ExecuteTime": {
     "end_time": "2025-03-04T17:10:32.177873Z",
     "start_time": "2025-03-04T17:10:32.162814Z"
    }
   },
   "cell_type": "code",
   "source": [
    "print(len(train_indices))\n",
    "print(len(val_indices))\n",
    "print(len(test_indices))\n",
    "\n",
    "print(train_indices[:20])"
   ],
   "id": "264c57f824a303a1",
   "outputs": [
    {
     "name": "stdout",
     "output_type": "stream",
     "text": [
      "5601458\n",
      "800165\n",
      "1600367\n",
      "8001990\n",
      "8001990\n",
      "[6, 9, 5, 1, 16, 15, 13, 17, 14, 8, 10, 7, 11, 4, 29, 188, 274, 367, 150, 375]\n"
     ]
    }
   ],
   "execution_count": 25
  },
  {
   "metadata": {
    "ExecuteTime": {
     "end_time": "2025-03-04T17:12:12.202776Z",
     "start_time": "2025-03-04T17:10:49.153221Z"
    }
   },
   "cell_type": "code",
   "source": [
    "# little shuffle for security\n",
    "random.shuffle(train_indices)\n",
    "random.shuffle(val_indices)\n",
    "random.shuffle(test_indices)\n",
    "\n",
    "train_table = table.take(train_indices)\n",
    "val_table = table.take(val_indices)\n",
    "test_table = table.take(test_indices)"
   ],
   "id": "21dffe9c84eba582",
   "outputs": [],
   "execution_count": 26
  },
  {
   "metadata": {
    "ExecuteTime": {
     "end_time": "2025-03-04T17:16:25.958816Z",
     "start_time": "2025-03-04T17:16:07.615407Z"
    }
   },
   "cell_type": "code",
   "source": [
    "# validating the split\n",
    "index_train_count = {d: 0 for d in depth_counts}\n",
    "index_val_count = {d: 0 for d in depth_counts}\n",
    "index_test_count = {d: 0 for d in depth_counts}\n",
    "\n",
    "for i in train_indices:\n",
    "    index_train_count[depth_col[i].as_py()] += 1\n",
    "\n",
    "for i in val_indices:\n",
    "    index_val_count[depth_col[i].as_py()] += 1\n",
    "    \n",
    "for i in test_indices:\n",
    "    index_test_count[depth_col[i].as_py()] += 1\n",
    "    \n",
    "for i in depth_counts:\n",
    "    print(f\"Depth {i}: {index_train_count[i]} {index_val_count[i]} {index_test_count[i]}\")\n"
   ],
   "id": "81429039e72580cd",
   "outputs": [
    {
     "name": "stdout",
     "output_type": "stream",
     "text": [
      "Depth 0: 14 1 3\n",
      "Depth 1: 252 36 72\n",
      "Depth 2: 932 132 265\n",
      "Depth 3: 2811 401 803\n",
      "Depth 4: 8754 1250 2500\n",
      "Depth 5: 26257 3751 7502\n",
      "Depth 6: 78810 11258 22516\n",
      "Depth 7: 90154 12879 25758\n",
      "Depth 8: 102077 14582 29164\n",
      "Depth 9: 110436 15776 31553\n",
      "Depth 10: 116788 16683 33367\n",
      "Depth 11: 116899 16699 33399\n",
      "Depth 12: 116973 16710 33420\n",
      "Depth 13: 117049 16721 33442\n",
      "Depth 14: 117146 16734 33469\n",
      "Depth 15: 117264 16752 33504\n",
      "Depth 16: 117339 16762 33525\n",
      "Depth 17: 117398 16771 33542\n",
      "Depth 18: 117485 16783 33567\n",
      "Depth 19: 117530 16789 33579\n",
      "Depth 20: 117622 16803 33606\n",
      "Depth 21: 117733 16819 33638\n",
      "Depth 22: 117846 16835 33670\n",
      "Depth 23: 117957 16850 33701\n",
      "Depth 24: 118053 16864 33729\n",
      "Depth 25: 118147 16877 33755\n",
      "Depth 26: 118250 16892 33785\n",
      "Depth 27: 118352 16907 33814\n",
      "Depth 28: 118456 16922 33844\n",
      "Depth 29: 118573 16939 33878\n",
      "Depth 30: 118668 16952 33904\n",
      "Depth 31: 118756 16965 33930\n",
      "Depth 32: 118837 16976 33953\n",
      "Depth 33: 118898 16985 33970\n",
      "Depth 34: 118945 16991 33983\n",
      "Depth 35: 118935 16990 33981\n",
      "Depth 36: 118913 16987 33975\n",
      "Depth 37: 118682 16954 33909\n",
      "Depth 38: 118458 16922 33845\n",
      "Depth 39: 117820 16831 33662\n",
      "Depth 40: 117167 16738 33476\n",
      "Depth 41: 115714 16530 33061\n",
      "Depth 42: 114518 16359 32719\n",
      "Depth 43: 112001 15999 31999\n",
      "Depth 44: 109933 15704 31409\n",
      "Depth 45: 106043 15148 30297\n",
      "Depth 46: 103084 14726 29452\n",
      "Depth 47: 97679 13954 27908\n",
      "Depth 48: 93651 13378 26757\n",
      "Depth 49: 87102 12442 24885\n",
      "Depth 50: 82237 11747 23495\n",
      "Depth 51: 74929 10704 21408\n",
      "Depth 52: 69209 9886 19773\n",
      "Depth 53: 61412 8772 17545\n",
      "Depth 54: 55335 7905 15810\n",
      "Depth 55: 47727 6817 13635\n",
      "Depth 56: 41507 5929 11858\n",
      "Depth 57: 34574 4939 9878\n",
      "Depth 58: 28939 4134 8268\n",
      "Depth 59: 23052 3293 6586\n",
      "Depth 60: 18488 2641 5282\n",
      "Depth 61: 13955 1993 3987\n",
      "Depth 62: 10476 1496 2992\n",
      "Depth 63: 7562 1080 2160\n",
      "Depth 64: 5380 768 1536\n",
      "Depth 65: 3632 518 1037\n",
      "Depth 66: 2379 339 679\n",
      "Depth 67: 1487 212 424\n",
      "Depth 68: 907 129 258\n",
      "Depth 69: 528 75 150\n",
      "Depth 70: 298 42 84\n",
      "Depth 71: 154 21 43\n",
      "Depth 72: 77 10 21\n",
      "Depth 73: 34 4 9\n",
      "Depth 74: 15 1 3\n",
      "Depth 75: 3 1 1\n",
      "Depth 76: 1 0 0\n"
     ]
    }
   ],
   "execution_count": 27
  },
  {
   "metadata": {
    "ExecuteTime": {
     "end_time": "2025-03-04T17:23:36.275467Z",
     "start_time": "2025-03-04T17:22:01.564943Z"
    }
   },
   "cell_type": "code",
   "source": [
    "pq.write_table(train_table, \"data/stage1-mcts-refactored/train.parquet\")\n",
    "pq.write_table(test_table, \"data/stage1-mcts-refactored/test.parquet\")\n",
    "pq.write_table(val_table, \"data/stage1-mcts-refactored/validation.parquet\")"
   ],
   "id": "8788886c4f3c8bbb",
   "outputs": [],
   "execution_count": 29
  },
  {
   "metadata": {
    "ExecuteTime": {
     "end_time": "2025-03-04T17:30:22.803545Z",
     "start_time": "2025-03-04T17:29:22.442751Z"
    }
   },
   "cell_type": "code",
   "source": [
    "# uploads\n",
    "api = HfApi()\n",
    "api.upload_file(\n",
    "    path_or_fileobj='data/stage1-mcts-refactored/train.parquet',\n",
    "    path_in_repo='data/train.parquet',\n",
    "    repo_id='markstanl/u3t',\n",
    "    repo_type='dataset'\n",
    ")\n",
    "api.upload_file(\n",
    "    path_or_fileobj='data/stage1-mcts-refactored/test.parquet',\n",
    "    path_in_repo='data/test.parquet',\n",
    "    repo_id='markstanl/u3t',\n",
    "    repo_type='dataset'\n",
    ")\n",
    "api.upload_file(\n",
    "    path_or_fileobj='data/stage1-mcts-refactored/validation.parquet',\n",
    "    path_in_repo='data/validation.parquet',\n",
    "    repo_id='markstanl/u3t',\n",
    "    repo_type='dataset'\n",
    ")"
   ],
   "id": "7943dee1bd21511f",
   "outputs": [
    {
     "data": {
      "text/plain": [
       "train.parquet:   0%|          | 0.00/883M [00:00<?, ?B/s]"
      ],
      "application/vnd.jupyter.widget-view+json": {
       "version_major": 2,
       "version_minor": 0,
       "model_id": "ee111edf37524205ad5da3e4edf4ad15"
      }
     },
     "metadata": {},
     "output_type": "display_data"
    },
    {
     "data": {
      "text/plain": [
       "test.parquet:   0%|          | 0.00/252M [00:00<?, ?B/s]"
      ],
      "application/vnd.jupyter.widget-view+json": {
       "version_major": 2,
       "version_minor": 0,
       "model_id": "bd164a08c8f94202a96b24b0a23d7403"
      }
     },
     "metadata": {},
     "output_type": "display_data"
    },
    {
     "data": {
      "text/plain": [
       "validation.parquet:   0%|          | 0.00/126M [00:00<?, ?B/s]"
      ],
      "application/vnd.jupyter.widget-view+json": {
       "version_major": 2,
       "version_minor": 0,
       "model_id": "0c47fe44983a4651b3131416aec5aa9a"
      }
     },
     "metadata": {},
     "output_type": "display_data"
    },
    {
     "data": {
      "text/plain": [
       "CommitInfo(commit_url='https://huggingface.co/datasets/markstanl/u3t/commit/6ee2e7da4f8e0d640715e7960bac243244f8acc0', commit_message='Upload data/validation.parquet with huggingface_hub', commit_description='', oid='6ee2e7da4f8e0d640715e7960bac243244f8acc0', pr_url=None, repo_url=RepoUrl('https://huggingface.co/datasets/markstanl/u3t', endpoint='https://huggingface.co', repo_type='dataset', repo_id='markstanl/u3t'), pr_revision=None, pr_num=None)"
      ]
     },
     "execution_count": 30,
     "metadata": {},
     "output_type": "execute_result"
    }
   ],
   "execution_count": 30
  },
  {
   "metadata": {
    "ExecuteTime": {
     "end_time": "2025-03-04T19:31:10.240629Z",
     "start_time": "2025-03-04T19:28:30.670120Z"
    }
   },
   "cell_type": "code",
   "source": [
    "table = pq.read_table(\"data/stage1-mcts-refactored/train.parquet\")\n",
    "dataset = load_dataset('markstanl/u3t', split=\"train\")"
   ],
   "id": "5ff5205595f39bbf",
   "outputs": [
    {
     "data": {
      "text/plain": [
       "README.md:   0%|          | 0.00/5.95k [00:00<?, ?B/s]"
      ],
      "application/vnd.jupyter.widget-view+json": {
       "version_major": 2,
       "version_minor": 0,
       "model_id": "fdca0119bf0c4af08dfb971088dfcc1c"
      }
     },
     "metadata": {},
     "output_type": "display_data"
    },
    {
     "data": {
      "text/plain": [
       "train.parquet:   0%|          | 0.00/883M [00:00<?, ?B/s]"
      ],
      "application/vnd.jupyter.widget-view+json": {
       "version_major": 2,
       "version_minor": 0,
       "model_id": "f4a01aac3a4c4ae7aaff8793403d8700"
      }
     },
     "metadata": {},
     "output_type": "display_data"
    },
    {
     "data": {
      "text/plain": [
       "test.parquet:   0%|          | 0.00/252M [00:00<?, ?B/s]"
      ],
      "application/vnd.jupyter.widget-view+json": {
       "version_major": 2,
       "version_minor": 0,
       "model_id": "c92b70ac50904b16a653715d71742d57"
      }
     },
     "metadata": {},
     "output_type": "display_data"
    },
    {
     "data": {
      "text/plain": [
       "validation.parquet:   0%|          | 0.00/126M [00:00<?, ?B/s]"
      ],
      "application/vnd.jupyter.widget-view+json": {
       "version_major": 2,
       "version_minor": 0,
       "model_id": "c3778faccf8e4eb4838ce1308453d923"
      }
     },
     "metadata": {},
     "output_type": "display_data"
    },
    {
     "data": {
      "text/plain": [
       "Generating train split:   0%|          | 0/5601458 [00:00<?, ? examples/s]"
      ],
      "application/vnd.jupyter.widget-view+json": {
       "version_major": 2,
       "version_minor": 0,
       "model_id": "6ff9b8bfc2874a4ea854052aaa725a36"
      }
     },
     "metadata": {},
     "output_type": "display_data"
    },
    {
     "name": "stderr",
     "output_type": "stream",
     "text": [
      "Failed to read file 'C:\\Users\\markt\\.cache\\huggingface\\hub\\datasets--markstanl--u3t\\snapshots\\fc6bdaeb4e0865fb420f2291466eb9e7103e0d8d\\data\\train.parquet' with error <class 'datasets.table.CastError'>: Couldn't cast\n",
      "state: string\n",
      "num_visits: int64\n",
      "num_wins: int64\n",
      "num_draws: int64\n",
      "num_losses: int64\n",
      "actions: list<element: struct<index: int64, num_draws: int64, num_losses: int64, num_wins: int64, symbol: int64>>\n",
      "  child 0, element: struct<index: int64, num_draws: int64, num_losses: int64, num_wins: int64, symbol: int64>\n",
      "      child 0, index: int64\n",
      "      child 1, num_draws: int64\n",
      "      child 2, num_losses: int64\n",
      "      child 3, num_wins: int64\n",
      "      child 4, symbol: int64\n",
      "depth: int64\n",
      "to\n",
      "{'state': Value(dtype='string', id=None), 'num_visits': Value(dtype='int64', id=None), 'num_wins': Value(dtype='int64', id=None), 'num_draws': Value(dtype='int64', id=None), 'num_losses': Value(dtype='int64', id=None), 'actions': [{'index': Value(dtype='int64', id=None), 'num_draws': Value(dtype='int64', id=None), 'num_losses': Value(dtype='int64', id=None), 'num_wins': Value(dtype='int64', id=None), 'symbol': Value(dtype='int64', id=None)}]}\n",
      "because column names don't match\n"
     ]
    },
    {
     "ename": "DatasetGenerationError",
     "evalue": "An error occurred while generating the dataset",
     "output_type": "error",
     "traceback": [
      "\u001B[1;31m---------------------------------------------------------------------------\u001B[0m",
      "\u001B[1;31mCastError\u001B[0m                                 Traceback (most recent call last)",
      "File \u001B[1;32m~\\PycharmProjects\\utt-file-extension\\.venv\\Lib\\site-packages\\datasets\\builder.py:1854\u001B[0m, in \u001B[0;36mArrowBasedBuilder._prepare_split_single\u001B[1;34m(self, gen_kwargs, fpath, file_format, max_shard_size, job_id)\u001B[0m\n\u001B[0;32m   1853\u001B[0m _time \u001B[38;5;241m=\u001B[39m time\u001B[38;5;241m.\u001B[39mtime()\n\u001B[1;32m-> 1854\u001B[0m \u001B[43m\u001B[49m\u001B[38;5;28;43;01mfor\u001B[39;49;00m\u001B[43m \u001B[49m\u001B[43m_\u001B[49m\u001B[43m,\u001B[49m\u001B[43m \u001B[49m\u001B[43mtable\u001B[49m\u001B[43m \u001B[49m\u001B[38;5;129;43;01min\u001B[39;49;00m\u001B[43m \u001B[49m\u001B[43mgenerator\u001B[49m\u001B[43m:\u001B[49m\n\u001B[0;32m   1855\u001B[0m \u001B[43m    \u001B[49m\u001B[38;5;28;43;01mif\u001B[39;49;00m\u001B[43m \u001B[49m\u001B[43mmax_shard_size\u001B[49m\u001B[43m \u001B[49m\u001B[38;5;129;43;01mis\u001B[39;49;00m\u001B[43m \u001B[49m\u001B[38;5;129;43;01mnot\u001B[39;49;00m\u001B[43m \u001B[49m\u001B[38;5;28;43;01mNone\u001B[39;49;00m\u001B[43m \u001B[49m\u001B[38;5;129;43;01mand\u001B[39;49;00m\u001B[43m \u001B[49m\u001B[43mwriter\u001B[49m\u001B[38;5;241;43m.\u001B[39;49m\u001B[43m_num_bytes\u001B[49m\u001B[43m \u001B[49m\u001B[38;5;241;43m>\u001B[39;49m\u001B[43m \u001B[49m\u001B[43mmax_shard_size\u001B[49m\u001B[43m:\u001B[49m\n",
      "File \u001B[1;32m~\\PycharmProjects\\utt-file-extension\\.venv\\Lib\\site-packages\\datasets\\packaged_modules\\parquet\\parquet.py:106\u001B[0m, in \u001B[0;36mParquet._generate_tables\u001B[1;34m(self, files)\u001B[0m\n\u001B[0;32m    103\u001B[0m         \u001B[38;5;66;03m# Uncomment for debugging (will print the Arrow table size and elements)\u001B[39;00m\n\u001B[0;32m    104\u001B[0m         \u001B[38;5;66;03m# logger.warning(f\"pa_table: {pa_table} num rows: {pa_table.num_rows}\")\u001B[39;00m\n\u001B[0;32m    105\u001B[0m         \u001B[38;5;66;03m# logger.warning('\\n'.join(str(pa_table.slice(i, 1).to_pydict()) for i in range(pa_table.num_rows)))\u001B[39;00m\n\u001B[1;32m--> 106\u001B[0m         \u001B[38;5;28;01myield\u001B[39;00m \u001B[38;5;124mf\u001B[39m\u001B[38;5;124m\"\u001B[39m\u001B[38;5;132;01m{\u001B[39;00mfile_idx\u001B[38;5;132;01m}\u001B[39;00m\u001B[38;5;124m_\u001B[39m\u001B[38;5;132;01m{\u001B[39;00mbatch_idx\u001B[38;5;132;01m}\u001B[39;00m\u001B[38;5;124m\"\u001B[39m, \u001B[38;5;28;43mself\u001B[39;49m\u001B[38;5;241;43m.\u001B[39;49m\u001B[43m_cast_table\u001B[49m\u001B[43m(\u001B[49m\u001B[43mpa_table\u001B[49m\u001B[43m)\u001B[49m\n\u001B[0;32m    107\u001B[0m \u001B[38;5;28;01mexcept\u001B[39;00m \u001B[38;5;167;01mValueError\u001B[39;00m \u001B[38;5;28;01mas\u001B[39;00m e:\n",
      "File \u001B[1;32m~\\PycharmProjects\\utt-file-extension\\.venv\\Lib\\site-packages\\datasets\\packaged_modules\\parquet\\parquet.py:73\u001B[0m, in \u001B[0;36mParquet._cast_table\u001B[1;34m(self, pa_table)\u001B[0m\n\u001B[0;32m     70\u001B[0m \u001B[38;5;28;01mif\u001B[39;00m \u001B[38;5;28mself\u001B[39m\u001B[38;5;241m.\u001B[39minfo\u001B[38;5;241m.\u001B[39mfeatures \u001B[38;5;129;01mis\u001B[39;00m \u001B[38;5;129;01mnot\u001B[39;00m \u001B[38;5;28;01mNone\u001B[39;00m:\n\u001B[0;32m     71\u001B[0m     \u001B[38;5;66;03m# more expensive cast to support nested features with keys in a different order\u001B[39;00m\n\u001B[0;32m     72\u001B[0m     \u001B[38;5;66;03m# allows str <-> int/float or str to Audio for example\u001B[39;00m\n\u001B[1;32m---> 73\u001B[0m     pa_table \u001B[38;5;241m=\u001B[39m \u001B[43mtable_cast\u001B[49m\u001B[43m(\u001B[49m\u001B[43mpa_table\u001B[49m\u001B[43m,\u001B[49m\u001B[43m \u001B[49m\u001B[38;5;28;43mself\u001B[39;49m\u001B[38;5;241;43m.\u001B[39;49m\u001B[43minfo\u001B[49m\u001B[38;5;241;43m.\u001B[39;49m\u001B[43mfeatures\u001B[49m\u001B[38;5;241;43m.\u001B[39;49m\u001B[43marrow_schema\u001B[49m\u001B[43m)\u001B[49m\n\u001B[0;32m     74\u001B[0m \u001B[38;5;28;01mreturn\u001B[39;00m pa_table\n",
      "File \u001B[1;32m~\\PycharmProjects\\utt-file-extension\\.venv\\Lib\\site-packages\\datasets\\table.py:2292\u001B[0m, in \u001B[0;36mtable_cast\u001B[1;34m(table, schema)\u001B[0m\n\u001B[0;32m   2291\u001B[0m \u001B[38;5;28;01mif\u001B[39;00m table\u001B[38;5;241m.\u001B[39mschema \u001B[38;5;241m!=\u001B[39m schema:\n\u001B[1;32m-> 2292\u001B[0m     \u001B[38;5;28;01mreturn\u001B[39;00m \u001B[43mcast_table_to_schema\u001B[49m\u001B[43m(\u001B[49m\u001B[43mtable\u001B[49m\u001B[43m,\u001B[49m\u001B[43m \u001B[49m\u001B[43mschema\u001B[49m\u001B[43m)\u001B[49m\n\u001B[0;32m   2293\u001B[0m \u001B[38;5;28;01melif\u001B[39;00m table\u001B[38;5;241m.\u001B[39mschema\u001B[38;5;241m.\u001B[39mmetadata \u001B[38;5;241m!=\u001B[39m schema\u001B[38;5;241m.\u001B[39mmetadata:\n",
      "File \u001B[1;32m~\\PycharmProjects\\utt-file-extension\\.venv\\Lib\\site-packages\\datasets\\table.py:2240\u001B[0m, in \u001B[0;36mcast_table_to_schema\u001B[1;34m(table, schema)\u001B[0m\n\u001B[0;32m   2239\u001B[0m \u001B[38;5;28;01mif\u001B[39;00m \u001B[38;5;129;01mnot\u001B[39;00m table_column_names \u001B[38;5;241m<\u001B[39m\u001B[38;5;241m=\u001B[39m \u001B[38;5;28mset\u001B[39m(schema\u001B[38;5;241m.\u001B[39mnames):\n\u001B[1;32m-> 2240\u001B[0m     \u001B[38;5;28;01mraise\u001B[39;00m CastError(\n\u001B[0;32m   2241\u001B[0m         \u001B[38;5;124mf\u001B[39m\u001B[38;5;124m\"\u001B[39m\u001B[38;5;124mCouldn\u001B[39m\u001B[38;5;124m'\u001B[39m\u001B[38;5;124mt cast\u001B[39m\u001B[38;5;130;01m\\n\u001B[39;00m\u001B[38;5;132;01m{\u001B[39;00m_short_str(table\u001B[38;5;241m.\u001B[39mschema)\u001B[38;5;132;01m}\u001B[39;00m\u001B[38;5;130;01m\\n\u001B[39;00m\u001B[38;5;124mto\u001B[39m\u001B[38;5;130;01m\\n\u001B[39;00m\u001B[38;5;132;01m{\u001B[39;00m_short_str(features)\u001B[38;5;132;01m}\u001B[39;00m\u001B[38;5;130;01m\\n\u001B[39;00m\u001B[38;5;124mbecause column names don\u001B[39m\u001B[38;5;124m'\u001B[39m\u001B[38;5;124mt match\u001B[39m\u001B[38;5;124m\"\u001B[39m,\n\u001B[0;32m   2242\u001B[0m         table_column_names\u001B[38;5;241m=\u001B[39mtable\u001B[38;5;241m.\u001B[39mcolumn_names,\n\u001B[0;32m   2243\u001B[0m         requested_column_names\u001B[38;5;241m=\u001B[39m\u001B[38;5;28mlist\u001B[39m(features),\n\u001B[0;32m   2244\u001B[0m     )\n\u001B[0;32m   2245\u001B[0m arrays \u001B[38;5;241m=\u001B[39m [\n\u001B[0;32m   2246\u001B[0m     cast_array_to_feature(\n\u001B[0;32m   2247\u001B[0m         table[name] \u001B[38;5;28;01mif\u001B[39;00m name \u001B[38;5;129;01min\u001B[39;00m table_column_names \u001B[38;5;28;01melse\u001B[39;00m pa\u001B[38;5;241m.\u001B[39marray([\u001B[38;5;28;01mNone\u001B[39;00m] \u001B[38;5;241m*\u001B[39m \u001B[38;5;28mlen\u001B[39m(table), \u001B[38;5;28mtype\u001B[39m\u001B[38;5;241m=\u001B[39mschema\u001B[38;5;241m.\u001B[39mfield(name)\u001B[38;5;241m.\u001B[39mtype),\n\u001B[1;32m   (...)\u001B[0m\n\u001B[0;32m   2250\u001B[0m     \u001B[38;5;28;01mfor\u001B[39;00m name, feature \u001B[38;5;129;01min\u001B[39;00m features\u001B[38;5;241m.\u001B[39mitems()\n\u001B[0;32m   2251\u001B[0m ]\n",
      "\u001B[1;31mCastError\u001B[0m: Couldn't cast\nstate: string\nnum_visits: int64\nnum_wins: int64\nnum_draws: int64\nnum_losses: int64\nactions: list<element: struct<index: int64, num_draws: int64, num_losses: int64, num_wins: int64, symbol: int64>>\n  child 0, element: struct<index: int64, num_draws: int64, num_losses: int64, num_wins: int64, symbol: int64>\n      child 0, index: int64\n      child 1, num_draws: int64\n      child 2, num_losses: int64\n      child 3, num_wins: int64\n      child 4, symbol: int64\ndepth: int64\nto\n{'state': Value(dtype='string', id=None), 'num_visits': Value(dtype='int64', id=None), 'num_wins': Value(dtype='int64', id=None), 'num_draws': Value(dtype='int64', id=None), 'num_losses': Value(dtype='int64', id=None), 'actions': [{'index': Value(dtype='int64', id=None), 'num_draws': Value(dtype='int64', id=None), 'num_losses': Value(dtype='int64', id=None), 'num_wins': Value(dtype='int64', id=None), 'symbol': Value(dtype='int64', id=None)}]}\nbecause column names don't match",
      "\nThe above exception was the direct cause of the following exception:\n",
      "\u001B[1;31mDatasetGenerationError\u001B[0m                    Traceback (most recent call last)",
      "Cell \u001B[1;32mIn[7], line 2\u001B[0m\n\u001B[0;32m      1\u001B[0m table \u001B[38;5;241m=\u001B[39m pq\u001B[38;5;241m.\u001B[39mread_table(\u001B[38;5;124m\"\u001B[39m\u001B[38;5;124mdata/stage1-mcts-refactored/train.parquet\u001B[39m\u001B[38;5;124m\"\u001B[39m)\n\u001B[1;32m----> 2\u001B[0m dataset \u001B[38;5;241m=\u001B[39m \u001B[43mload_dataset\u001B[49m\u001B[43m(\u001B[49m\u001B[38;5;124;43m'\u001B[39;49m\u001B[38;5;124;43mmarkstanl/u3t\u001B[39;49m\u001B[38;5;124;43m'\u001B[39;49m\u001B[43m,\u001B[49m\u001B[43m \u001B[49m\u001B[43msplit\u001B[49m\u001B[38;5;241;43m=\u001B[39;49m\u001B[38;5;124;43m\"\u001B[39;49m\u001B[38;5;124;43mtrain\u001B[39;49m\u001B[38;5;124;43m\"\u001B[39;49m\u001B[43m)\u001B[49m\n",
      "File \u001B[1;32m~\\PycharmProjects\\utt-file-extension\\.venv\\Lib\\site-packages\\datasets\\load.py:2151\u001B[0m, in \u001B[0;36mload_dataset\u001B[1;34m(path, name, data_dir, data_files, split, cache_dir, features, download_config, download_mode, verification_mode, keep_in_memory, save_infos, revision, token, streaming, num_proc, storage_options, trust_remote_code, **config_kwargs)\u001B[0m\n\u001B[0;32m   2148\u001B[0m     \u001B[38;5;28;01mreturn\u001B[39;00m builder_instance\u001B[38;5;241m.\u001B[39mas_streaming_dataset(split\u001B[38;5;241m=\u001B[39msplit)\n\u001B[0;32m   2150\u001B[0m \u001B[38;5;66;03m# Download and prepare data\u001B[39;00m\n\u001B[1;32m-> 2151\u001B[0m \u001B[43mbuilder_instance\u001B[49m\u001B[38;5;241;43m.\u001B[39;49m\u001B[43mdownload_and_prepare\u001B[49m\u001B[43m(\u001B[49m\n\u001B[0;32m   2152\u001B[0m \u001B[43m    \u001B[49m\u001B[43mdownload_config\u001B[49m\u001B[38;5;241;43m=\u001B[39;49m\u001B[43mdownload_config\u001B[49m\u001B[43m,\u001B[49m\n\u001B[0;32m   2153\u001B[0m \u001B[43m    \u001B[49m\u001B[43mdownload_mode\u001B[49m\u001B[38;5;241;43m=\u001B[39;49m\u001B[43mdownload_mode\u001B[49m\u001B[43m,\u001B[49m\n\u001B[0;32m   2154\u001B[0m \u001B[43m    \u001B[49m\u001B[43mverification_mode\u001B[49m\u001B[38;5;241;43m=\u001B[39;49m\u001B[43mverification_mode\u001B[49m\u001B[43m,\u001B[49m\n\u001B[0;32m   2155\u001B[0m \u001B[43m    \u001B[49m\u001B[43mnum_proc\u001B[49m\u001B[38;5;241;43m=\u001B[39;49m\u001B[43mnum_proc\u001B[49m\u001B[43m,\u001B[49m\n\u001B[0;32m   2156\u001B[0m \u001B[43m    \u001B[49m\u001B[43mstorage_options\u001B[49m\u001B[38;5;241;43m=\u001B[39;49m\u001B[43mstorage_options\u001B[49m\u001B[43m,\u001B[49m\n\u001B[0;32m   2157\u001B[0m \u001B[43m\u001B[49m\u001B[43m)\u001B[49m\n\u001B[0;32m   2159\u001B[0m \u001B[38;5;66;03m# Build dataset for splits\u001B[39;00m\n\u001B[0;32m   2160\u001B[0m keep_in_memory \u001B[38;5;241m=\u001B[39m (\n\u001B[0;32m   2161\u001B[0m     keep_in_memory \u001B[38;5;28;01mif\u001B[39;00m keep_in_memory \u001B[38;5;129;01mis\u001B[39;00m \u001B[38;5;129;01mnot\u001B[39;00m \u001B[38;5;28;01mNone\u001B[39;00m \u001B[38;5;28;01melse\u001B[39;00m is_small_dataset(builder_instance\u001B[38;5;241m.\u001B[39minfo\u001B[38;5;241m.\u001B[39mdataset_size)\n\u001B[0;32m   2162\u001B[0m )\n",
      "File \u001B[1;32m~\\PycharmProjects\\utt-file-extension\\.venv\\Lib\\site-packages\\datasets\\builder.py:924\u001B[0m, in \u001B[0;36mDatasetBuilder.download_and_prepare\u001B[1;34m(self, output_dir, download_config, download_mode, verification_mode, dl_manager, base_path, file_format, max_shard_size, num_proc, storage_options, **download_and_prepare_kwargs)\u001B[0m\n\u001B[0;32m    922\u001B[0m \u001B[38;5;28;01mif\u001B[39;00m num_proc \u001B[38;5;129;01mis\u001B[39;00m \u001B[38;5;129;01mnot\u001B[39;00m \u001B[38;5;28;01mNone\u001B[39;00m:\n\u001B[0;32m    923\u001B[0m     prepare_split_kwargs[\u001B[38;5;124m\"\u001B[39m\u001B[38;5;124mnum_proc\u001B[39m\u001B[38;5;124m\"\u001B[39m] \u001B[38;5;241m=\u001B[39m num_proc\n\u001B[1;32m--> 924\u001B[0m \u001B[38;5;28;43mself\u001B[39;49m\u001B[38;5;241;43m.\u001B[39;49m\u001B[43m_download_and_prepare\u001B[49m\u001B[43m(\u001B[49m\n\u001B[0;32m    925\u001B[0m \u001B[43m    \u001B[49m\u001B[43mdl_manager\u001B[49m\u001B[38;5;241;43m=\u001B[39;49m\u001B[43mdl_manager\u001B[49m\u001B[43m,\u001B[49m\n\u001B[0;32m    926\u001B[0m \u001B[43m    \u001B[49m\u001B[43mverification_mode\u001B[49m\u001B[38;5;241;43m=\u001B[39;49m\u001B[43mverification_mode\u001B[49m\u001B[43m,\u001B[49m\n\u001B[0;32m    927\u001B[0m \u001B[43m    \u001B[49m\u001B[38;5;241;43m*\u001B[39;49m\u001B[38;5;241;43m*\u001B[39;49m\u001B[43mprepare_split_kwargs\u001B[49m\u001B[43m,\u001B[49m\n\u001B[0;32m    928\u001B[0m \u001B[43m    \u001B[49m\u001B[38;5;241;43m*\u001B[39;49m\u001B[38;5;241;43m*\u001B[39;49m\u001B[43mdownload_and_prepare_kwargs\u001B[49m\u001B[43m,\u001B[49m\n\u001B[0;32m    929\u001B[0m \u001B[43m\u001B[49m\u001B[43m)\u001B[49m\n\u001B[0;32m    930\u001B[0m \u001B[38;5;66;03m# Sync info\u001B[39;00m\n\u001B[0;32m    931\u001B[0m \u001B[38;5;28mself\u001B[39m\u001B[38;5;241m.\u001B[39minfo\u001B[38;5;241m.\u001B[39mdataset_size \u001B[38;5;241m=\u001B[39m \u001B[38;5;28msum\u001B[39m(split\u001B[38;5;241m.\u001B[39mnum_bytes \u001B[38;5;28;01mfor\u001B[39;00m split \u001B[38;5;129;01min\u001B[39;00m \u001B[38;5;28mself\u001B[39m\u001B[38;5;241m.\u001B[39minfo\u001B[38;5;241m.\u001B[39msplits\u001B[38;5;241m.\u001B[39mvalues())\n",
      "File \u001B[1;32m~\\PycharmProjects\\utt-file-extension\\.venv\\Lib\\site-packages\\datasets\\builder.py:1000\u001B[0m, in \u001B[0;36mDatasetBuilder._download_and_prepare\u001B[1;34m(self, dl_manager, verification_mode, **prepare_split_kwargs)\u001B[0m\n\u001B[0;32m    996\u001B[0m split_dict\u001B[38;5;241m.\u001B[39madd(split_generator\u001B[38;5;241m.\u001B[39msplit_info)\n\u001B[0;32m    998\u001B[0m \u001B[38;5;28;01mtry\u001B[39;00m:\n\u001B[0;32m    999\u001B[0m     \u001B[38;5;66;03m# Prepare split will record examples associated to the split\u001B[39;00m\n\u001B[1;32m-> 1000\u001B[0m     \u001B[38;5;28;43mself\u001B[39;49m\u001B[38;5;241;43m.\u001B[39;49m\u001B[43m_prepare_split\u001B[49m\u001B[43m(\u001B[49m\u001B[43msplit_generator\u001B[49m\u001B[43m,\u001B[49m\u001B[43m \u001B[49m\u001B[38;5;241;43m*\u001B[39;49m\u001B[38;5;241;43m*\u001B[39;49m\u001B[43mprepare_split_kwargs\u001B[49m\u001B[43m)\u001B[49m\n\u001B[0;32m   1001\u001B[0m \u001B[38;5;28;01mexcept\u001B[39;00m \u001B[38;5;167;01mOSError\u001B[39;00m \u001B[38;5;28;01mas\u001B[39;00m e:\n\u001B[0;32m   1002\u001B[0m     \u001B[38;5;28;01mraise\u001B[39;00m \u001B[38;5;167;01mOSError\u001B[39;00m(\n\u001B[0;32m   1003\u001B[0m         \u001B[38;5;124m\"\u001B[39m\u001B[38;5;124mCannot find data file. \u001B[39m\u001B[38;5;124m\"\u001B[39m\n\u001B[0;32m   1004\u001B[0m         \u001B[38;5;241m+\u001B[39m (\u001B[38;5;28mself\u001B[39m\u001B[38;5;241m.\u001B[39mmanual_download_instructions \u001B[38;5;129;01mor\u001B[39;00m \u001B[38;5;124m\"\u001B[39m\u001B[38;5;124m\"\u001B[39m)\n\u001B[0;32m   1005\u001B[0m         \u001B[38;5;241m+\u001B[39m \u001B[38;5;124m\"\u001B[39m\u001B[38;5;130;01m\\n\u001B[39;00m\u001B[38;5;124mOriginal error:\u001B[39m\u001B[38;5;130;01m\\n\u001B[39;00m\u001B[38;5;124m\"\u001B[39m\n\u001B[0;32m   1006\u001B[0m         \u001B[38;5;241m+\u001B[39m \u001B[38;5;28mstr\u001B[39m(e)\n\u001B[0;32m   1007\u001B[0m     ) \u001B[38;5;28;01mfrom\u001B[39;00m\u001B[38;5;250m \u001B[39m\u001B[38;5;28;01mNone\u001B[39;00m\n",
      "File \u001B[1;32m~\\PycharmProjects\\utt-file-extension\\.venv\\Lib\\site-packages\\datasets\\builder.py:1741\u001B[0m, in \u001B[0;36mArrowBasedBuilder._prepare_split\u001B[1;34m(self, split_generator, file_format, num_proc, max_shard_size)\u001B[0m\n\u001B[0;32m   1739\u001B[0m job_id \u001B[38;5;241m=\u001B[39m \u001B[38;5;241m0\u001B[39m\n\u001B[0;32m   1740\u001B[0m \u001B[38;5;28;01mwith\u001B[39;00m pbar:\n\u001B[1;32m-> 1741\u001B[0m \u001B[43m    \u001B[49m\u001B[38;5;28;43;01mfor\u001B[39;49;00m\u001B[43m \u001B[49m\u001B[43mjob_id\u001B[49m\u001B[43m,\u001B[49m\u001B[43m \u001B[49m\u001B[43mdone\u001B[49m\u001B[43m,\u001B[49m\u001B[43m \u001B[49m\u001B[43mcontent\u001B[49m\u001B[43m \u001B[49m\u001B[38;5;129;43;01min\u001B[39;49;00m\u001B[43m \u001B[49m\u001B[38;5;28;43mself\u001B[39;49m\u001B[38;5;241;43m.\u001B[39;49m\u001B[43m_prepare_split_single\u001B[49m\u001B[43m(\u001B[49m\n\u001B[0;32m   1742\u001B[0m \u001B[43m        \u001B[49m\u001B[43mgen_kwargs\u001B[49m\u001B[38;5;241;43m=\u001B[39;49m\u001B[43mgen_kwargs\u001B[49m\u001B[43m,\u001B[49m\u001B[43m \u001B[49m\u001B[43mjob_id\u001B[49m\u001B[38;5;241;43m=\u001B[39;49m\u001B[43mjob_id\u001B[49m\u001B[43m,\u001B[49m\u001B[43m \u001B[49m\u001B[38;5;241;43m*\u001B[39;49m\u001B[38;5;241;43m*\u001B[39;49m\u001B[43m_prepare_split_args\u001B[49m\n\u001B[0;32m   1743\u001B[0m \u001B[43m    \u001B[49m\u001B[43m)\u001B[49m\u001B[43m:\u001B[49m\n\u001B[0;32m   1744\u001B[0m \u001B[43m        \u001B[49m\u001B[38;5;28;43;01mif\u001B[39;49;00m\u001B[43m \u001B[49m\u001B[43mdone\u001B[49m\u001B[43m:\u001B[49m\n\u001B[0;32m   1745\u001B[0m \u001B[43m            \u001B[49m\u001B[43mresult\u001B[49m\u001B[43m \u001B[49m\u001B[38;5;241;43m=\u001B[39;49m\u001B[43m \u001B[49m\u001B[43mcontent\u001B[49m\n",
      "File \u001B[1;32m~\\PycharmProjects\\utt-file-extension\\.venv\\Lib\\site-packages\\datasets\\builder.py:1897\u001B[0m, in \u001B[0;36mArrowBasedBuilder._prepare_split_single\u001B[1;34m(self, gen_kwargs, fpath, file_format, max_shard_size, job_id)\u001B[0m\n\u001B[0;32m   1895\u001B[0m     \u001B[38;5;28;01mif\u001B[39;00m \u001B[38;5;28misinstance\u001B[39m(e, DatasetGenerationError):\n\u001B[0;32m   1896\u001B[0m         \u001B[38;5;28;01mraise\u001B[39;00m\n\u001B[1;32m-> 1897\u001B[0m     \u001B[38;5;28;01mraise\u001B[39;00m DatasetGenerationError(\u001B[38;5;124m\"\u001B[39m\u001B[38;5;124mAn error occurred while generating the dataset\u001B[39m\u001B[38;5;124m\"\u001B[39m) \u001B[38;5;28;01mfrom\u001B[39;00m\u001B[38;5;250m \u001B[39m\u001B[38;5;21;01me\u001B[39;00m\n\u001B[0;32m   1899\u001B[0m \u001B[38;5;28;01myield\u001B[39;00m job_id, \u001B[38;5;28;01mTrue\u001B[39;00m, (total_num_examples, total_num_bytes, writer\u001B[38;5;241m.\u001B[39m_features, num_shards, shard_lengths)\n",
      "\u001B[1;31mDatasetGenerationError\u001B[0m: An error occurred while generating the dataset"
     ]
    }
   ],
   "execution_count": 7
  },
  {
   "metadata": {
    "ExecuteTime": {
     "end_time": "2025-03-04T19:27:10.207051Z",
     "start_time": "2025-03-04T19:27:10.197429Z"
    }
   },
   "cell_type": "code",
   "source": "print(table.schema)",
   "id": "7982b2e332d96835",
   "outputs": [
    {
     "name": "stdout",
     "output_type": "stream",
     "text": [
      "state: string\n",
      "num_visits: int64\n",
      "num_wins: int64\n",
      "num_draws: int64\n",
      "num_losses: int64\n",
      "actions: list<element: struct<index: int64, num_draws: int64, num_losses: int64, num_wins: int64, symbol: int64>>\n",
      "  child 0, element: struct<index: int64, num_draws: int64, num_losses: int64, num_wins: int64, symbol: int64>\n",
      "      child 0, index: int64\n",
      "      child 1, num_draws: int64\n",
      "      child 2, num_losses: int64\n",
      "      child 3, num_wins: int64\n",
      "      child 4, symbol: int64\n",
      "depth: int64\n"
     ]
    }
   ],
   "execution_count": 5
  },
  {
   "metadata": {},
   "cell_type": "code",
   "outputs": [],
   "execution_count": null,
   "source": "print(dataset.features)",
   "id": "95d39fab1f3b22ab"
  }
 ],
 "metadata": {
  "kernelspec": {
   "display_name": "Python 3",
   "language": "python",
   "name": "python3"
  },
  "language_info": {
   "codemirror_mode": {
    "name": "ipython",
    "version": 2
   },
   "file_extension": ".py",
   "mimetype": "text/x-python",
   "name": "python",
   "nbconvert_exporter": "python",
   "pygments_lexer": "ipython2",
   "version": "2.7.6"
  }
 },
 "nbformat": 4,
 "nbformat_minor": 5
}
