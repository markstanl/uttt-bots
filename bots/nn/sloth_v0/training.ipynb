{
 "cells": [
  {
   "metadata": {},
   "cell_type": "markdown",
   "source": "# Imports",
   "id": "27166f4a278a8a9c"
  },
  {
   "metadata": {
    "ExecuteTime": {
     "end_time": "2025-03-22T23:55:59.981914Z",
     "start_time": "2025-03-22T23:55:59.945271Z"
    }
   },
   "cell_type": "code",
   "source": [
    "import torch as t \n",
    "import torch.nn as nn\n",
    "import torch.optim as optim\n",
    "import torch.nn.functional as F\n",
    "\n",
    "from datasets import load_dataset\n",
    "from datasets import Dataset\n",
    "\n",
    "from tqdm import tqdm\n",
    "\n",
    "from sloth_parse import parse_bytearray_string_to_sloth_mlp, parse_bytearray_string_to_sloth_cnn"
   ],
   "id": "initial_id",
   "outputs": [],
   "execution_count": 9
  },
  {
   "metadata": {},
   "cell_type": "markdown",
   "source": [
    "# Data Preprocessing Functions\n",
    "Can ignore all of this if just training"
   ],
   "id": "3cde928d4ac3e8e5"
  },
  {
   "metadata": {
    "ExecuteTime": {
     "end_time": "2025-03-22T17:30:21.126745Z",
     "start_time": "2025-03-22T17:30:21.114420Z"
    }
   },
   "cell_type": "code",
   "source": [
    "def process_datapoint(datapoint: dict[str, any]) -> dict[str, any]:\n",
    "    \"\"\"\n",
    "    Map function for the dataset to convert the data into a format that can be used by the model.\n",
    "    (viz. convert the state from a bytearray string to a tensor)\n",
    "    Args:\n",
    "        datapoint: the datapoint to be processed\n",
    "\n",
    "    Returns:\n",
    "\n",
    "    \"\"\"\n",
    "    game_state_tensor = parse_bytearray_string_to_sloth_cnn(datapoint['state'])\n",
    "    \n",
    "    wins = int(datapoint['num_wins'])\n",
    "    losses = int(datapoint['num_losses'])\n",
    "    draws = int(datapoint['num_draws'])\n",
    "    num_games = wins + losses + draws\n",
    "    score = t.tensor(0.0 if num_games == 0 else (wins - losses) / num_games)\n",
    "    # this score function attempts to normalize the score to be between -1 and 1, like an evaluation function should\n",
    "    \n",
    "    return {\n",
    "        'tensor_state': game_state_tensor,\n",
    "        'score': score\n",
    "    }\n",
    "    \n",
    "    "
   ],
   "id": "cac4deec33232582",
   "outputs": [],
   "execution_count": 2
  },
  {
   "metadata": {
    "ExecuteTime": {
     "end_time": "2025-03-22T17:30:27.284527Z",
     "start_time": "2025-03-22T17:30:27.277107Z"
    }
   },
   "cell_type": "code",
   "source": [
    "def get_dataset(split: str) -> Dataset:\n",
    "    if split not in ['train', 'validation', 'test']:\n",
    "        raise ValueError(f\"Invalid split: {split}\")\n",
    "    \n",
    "    dataset = load_dataset('markstanl/u3t', split=split)\n",
    "    return dataset"
   ],
   "id": "34fe4c76ff7ef504",
   "outputs": [],
   "execution_count": 3
  },
  {
   "metadata": {
    "ExecuteTime": {
     "end_time": "2025-03-22T17:30:43.305632Z",
     "start_time": "2025-03-22T17:30:30.095196Z"
    }
   },
   "cell_type": "code",
   "source": [
    "train = get_dataset('train')\n",
    "test = get_dataset('test')\n",
    "val = get_dataset('validation')"
   ],
   "id": "fe0b91ebe128c1ec",
   "outputs": [],
   "execution_count": 4
  },
  {
   "metadata": {
    "ExecuteTime": {
     "end_time": "2025-03-22T17:30:43.321693Z",
     "start_time": "2025-03-22T17:30:43.309745Z"
    }
   },
   "cell_type": "code",
   "source": [
    "def get_tensor_dataset(dataset: Dataset) -> Dataset:\n",
    "    dataset = dataset.remove_columns(['num_visits', 'actions', 'depth'])\n",
    "    \n",
    "    dataset = dataset.map(process_datapoint)\n",
    "    dataset.set_format(type='torch', columns=['tensor_state'])\n",
    "        \n",
    "    dataset = dataset.remove_columns(['state', 'num_wins', 'num_losses', 'num_draws'])\n",
    "    \n",
    "    return dataset\n",
    "    \n",
    "def save_tensor_dataset(dataset: Dataset, split: str):\n",
    "    dataset.to_parquet(f'sloth_{split}.parquet')\n",
    "    \n",
    "def make_tensor_dataset(dataset: Dataset, split: str):\n",
    "    tensor_dataset = get_tensor_dataset(dataset)\n",
    "    save_tensor_dataset(tensor_dataset, split)"
   ],
   "id": "f650128398c68f6b",
   "outputs": [],
   "execution_count": 5
  },
  {
   "metadata": {
    "ExecuteTime": {
     "end_time": "2025-03-22T19:40:46.798757Z",
     "start_time": "2025-03-22T17:31:12.488817Z"
    }
   },
   "cell_type": "code",
   "source": [
    "make_tensor_dataset(train, 'train')\n",
    "make_tensor_dataset(test, 'test')\n",
    "make_tensor_dataset(val, 'validation')"
   ],
   "id": "4f0ef02d96c953a8",
   "outputs": [
    {
     "data": {
      "text/plain": [
       "Map:   0%|          | 0/5601458 [00:00<?, ? examples/s]"
      ],
      "application/vnd.jupyter.widget-view+json": {
       "version_major": 2,
       "version_minor": 0,
       "model_id": "99a229c1b5ee4e5fa6a3c8553fed7579"
      }
     },
     "metadata": {},
     "output_type": "display_data"
    },
    {
     "data": {
      "text/plain": [
       "Creating parquet from Arrow format:   0%|          | 0/5602 [00:00<?, ?ba/s]"
      ],
      "application/vnd.jupyter.widget-view+json": {
       "version_major": 2,
       "version_minor": 0,
       "model_id": "b92d548211d14746bf88bbdefabeaabc"
      }
     },
     "metadata": {},
     "output_type": "display_data"
    },
    {
     "data": {
      "text/plain": [
       "Map:   0%|          | 0/1600367 [00:00<?, ? examples/s]"
      ],
      "application/vnd.jupyter.widget-view+json": {
       "version_major": 2,
       "version_minor": 0,
       "model_id": "77241d6106ef4fa7a199d55e0dd117c1"
      }
     },
     "metadata": {},
     "output_type": "display_data"
    },
    {
     "data": {
      "text/plain": [
       "Creating parquet from Arrow format:   0%|          | 0/1601 [00:00<?, ?ba/s]"
      ],
      "application/vnd.jupyter.widget-view+json": {
       "version_major": 2,
       "version_minor": 0,
       "model_id": "5c36734b6e8643bbac85a98fee0eeb2d"
      }
     },
     "metadata": {},
     "output_type": "display_data"
    },
    {
     "data": {
      "text/plain": [
       "Map:   0%|          | 0/800165 [00:00<?, ? examples/s]"
      ],
      "application/vnd.jupyter.widget-view+json": {
       "version_major": 2,
       "version_minor": 0,
       "model_id": "caa4b55959ed44858687afe212fae972"
      }
     },
     "metadata": {},
     "output_type": "display_data"
    },
    {
     "data": {
      "text/plain": [
       "Creating parquet from Arrow format:   0%|          | 0/801 [00:00<?, ?ba/s]"
      ],
      "application/vnd.jupyter.widget-view+json": {
       "version_major": 2,
       "version_minor": 0,
       "model_id": "da46b31c50de4ae5b8523a0baf84752b"
      }
     },
     "metadata": {},
     "output_type": "display_data"
    }
   ],
   "execution_count": 7
  },
  {
   "metadata": {},
   "cell_type": "markdown",
   "source": "Though, run this block to get the data loader from your local dataset",
   "id": "7e8e93e24ccbca86"
  },
  {
   "metadata": {
    "ExecuteTime": {
     "end_time": "2025-03-22T23:56:06.700071Z",
     "start_time": "2025-03-22T23:56:06.665009Z"
    }
   },
   "cell_type": "code",
   "source": [
    "def get_local_data_loader(split: str, cnn: bool=False) -> t.utils.data.DataLoader:\n",
    "    \"\"\"\n",
    "    Get a DataLoader for the given split of the data. Converts the data to tensors.\n",
    "    Args:\n",
    "        split: the split of the data to get the DataLoader for\n",
    "        cnn: boolean to use the cnn split\n",
    "\n",
    "    Returns:\n",
    "        DataLoader: the DataLoader for the given split\n",
    "    \"\"\"\n",
    "    if cnn:\n",
    "        dataset = Dataset.from_parquet(f'sloth_data/sloth_{split}_cnn.parquet')\n",
    "    else:\n",
    "        dataset = Dataset.from_parquet(f'sloth_data/sloth_{split}.parquet')\n",
    "    dataset.set_format(type='torch', columns=['tensor_state', 'score'])\n",
    "    \n",
    "    loader = t.utils.data.DataLoader(dataset, batch_size=32, shuffle=True)\n",
    "    return loader\n",
    "\n",
    "def get_loader_from_dataset(dataset: Dataset) -> t.utils.data.DataLoader:\n",
    "    dataset.set_format(type='torch', columns=['tensor_state', 'score'])\n",
    "    \n",
    "    loader = t.utils.data.DataLoader(dataset, batch_size=32, shuffle=True)\n",
    "    return loader\n",
    "\n",
    "def get_local_dataset(split: str) -> Dataset:\n",
    "    return Dataset.from_parquet(f'sloth_data/sloth_{split}.parquet')"
   ],
   "id": "3c26c50955790435",
   "outputs": [],
   "execution_count": 10
  },
  {
   "metadata": {},
   "cell_type": "markdown",
   "source": "# Sloth ML Construction",
   "id": "765b2e4df3656d1"
  },
  {
   "metadata": {
    "ExecuteTime": {
     "end_time": "2025-03-20T19:58:10.071862Z",
     "start_time": "2025-03-20T19:58:10.066642Z"
    }
   },
   "cell_type": "code",
   "source": [
    "class Sloth(nn.Module):\n",
    "    def __init__(self):\n",
    "        super().__init__()\n",
    "        self.flatten = nn.Flatten()\n",
    "        self.linear_relu_stack = nn.Sequential(\n",
    "            nn.Linear(324, 512),\n",
    "            nn.ReLU(),\n",
    "            nn.Linear(512, 256),\n",
    "            nn.ReLU(),\n",
    "            nn.Linear(256, 128),\n",
    "            nn.ReLU(),\n",
    "            nn.Linear(128, 1)\n",
    "        )\n",
    "        \n",
    "    def forward(self, x):\n",
    "        x = self.flatten(x)\n",
    "        return self.linear_relu_stack(x)"
   ],
   "id": "9171ed479e9a75ab",
   "outputs": [],
   "execution_count": 17
  },
  {
   "metadata": {
    "ExecuteTime": {
     "end_time": "2025-03-22T23:56:10.378178Z",
     "start_time": "2025-03-22T23:56:10.346161Z"
    }
   },
   "cell_type": "code",
   "source": [
    "def evaluate(model: nn.Module, \n",
    "             loader: t.utils.data.DataLoader, \n",
    "             criterion: t.nn.modules.loss,\n",
    "             num_batches: int = 100):\n",
    "    \n",
    "    model.eval()\n",
    "    with t.no_grad():\n",
    "        total_loss = 0\n",
    "        total_error = 0\n",
    "        num_data_points = 0\n",
    "        \n",
    "        for i, batch in enumerate(loader):\n",
    "            if i >= num_batches:\n",
    "                break\n",
    "            state, score = batch['tensor_state'], batch['score']\n",
    "            output = model(state)\n",
    "            loss = criterion(output, score.unsqueeze(1))\n",
    "            \n",
    "            num_data_points += len(score)\n",
    "            total_loss += loss.item()\n",
    "            total_error += t.sum(t.abs(output - score.unsqueeze(1))).item()\n",
    "        loss = total_loss / num_data_points\n",
    "        error = total_error / num_data_points\n",
    "        \n",
    "        return loss, error\n",
    "    "
   ],
   "id": "747034049b4c5151",
   "outputs": [],
   "execution_count": 11
  },
  {
   "metadata": {
    "ExecuteTime": {
     "end_time": "2025-03-23T00:29:11.752014Z",
     "start_time": "2025-03-23T00:29:11.734829Z"
    }
   },
   "cell_type": "code",
   "source": [
    "def train(model: nn.Module, \n",
    "          loader: t.utils.data.DataLoader, \n",
    "          optimizer: t.optim, \n",
    "          criterion: t.nn.modules.loss, \n",
    "          num_epochs: int,\n",
    "          test_loader: t.utils.data.DataLoader,\n",
    "          epoch_start: int = 0) -> list[tuple[float, float]]:\n",
    "    \"\"\"\n",
    "    Train the model on the given data\n",
    "    Args:\n",
    "        model: the model to train\n",
    "        loader: the DataLoader for the data\n",
    "        optimizer: the optimizer to use\n",
    "        criterion: the loss function to use\n",
    "    \"\"\"\n",
    "    model.train()\n",
    "    history = []\n",
    "    save_path = \"sloth_models/model_cnn_epoch_{epoch}.pth\"\n",
    "    \n",
    "    for epoch in range(num_epochs):\n",
    "        total_loss = 0\n",
    "        total_error = 0\n",
    "        num_data_points = 0\n",
    "        \n",
    "        for i, batch in tqdm(enumerate(loader)):\n",
    "            optimizer.zero_grad()\n",
    "            state, score = batch['tensor_state'], batch['score']\n",
    "            output = model(state)\n",
    "            loss = criterion(output, score.unsqueeze(1))\n",
    "            loss.backward()\n",
    "            optimizer.step()\n",
    "            \n",
    "            num_data_points += len(score)\n",
    "            total_loss += loss.item()\n",
    "            total_error += t.sum(t.abs(output - score.unsqueeze(1))).item()\n",
    "            \n",
    "            # if (i*32) % 500_000 == 0:\n",
    "            #     print(f\"       Iteration {i} Loss: {total_loss / num_data_points} Average Error {total_error / num_data_points}\")\n",
    "                \n",
    "        loss = total_loss / num_data_points\n",
    "        error = total_error / num_data_points\n",
    "                        \n",
    "        if test_loader is None:\n",
    "            print(f\"Epoch {epoch + epoch_start} Loss: {loss} Average Error {error}\")\n",
    "            history.append((loss, error))\n",
    "        else:\n",
    "            test_loss, test_error = evaluate(model, test_loader, criterion, num_batches=100)\n",
    "            print(f\"Epoch {epoch + epoch_start} Loss: {loss} Average Error {error} Test Loss: {test_loss} Test Error: {test_error}\")\n",
    "            history.append((loss, error, test_loss, test_error))\n",
    "        \n",
    "        \n",
    "        t.save({\n",
    "            'epoch': epoch+epoch_start+1,\n",
    "            'model_state_dict': model.state_dict(),\n",
    "            'optimizer_state_dict': optimizer.state_dict(),\n",
    "            'loss': loss,  \n",
    "        }, save_path.format(epoch=epoch+epoch_start+1))\n",
    "        \n",
    "    return history"
   ],
   "id": "119cdb0eb084f4fe",
   "outputs": [],
   "execution_count": 34
  },
  {
   "metadata": {
    "ExecuteTime": {
     "end_time": "2025-03-20T19:57:11.872040Z",
     "start_time": "2025-03-20T19:57:00.302622Z"
    }
   },
   "cell_type": "code",
   "source": [
    "train_loader = get_local_data_loader('train')\n",
    "test_loader = get_local_data_loader('test')"
   ],
   "id": "e742059e3c906f76",
   "outputs": [],
   "execution_count": 13
  },
  {
   "metadata": {
    "ExecuteTime": {
     "end_time": "2025-03-20T19:57:11.907279Z",
     "start_time": "2025-03-20T19:57:11.874038Z"
    }
   },
   "cell_type": "code",
   "source": "model_dict = t.load('sloth_models/model_epoch_5.pth')",
   "id": "771301291eb82943",
   "outputs": [],
   "execution_count": 14
  },
  {
   "metadata": {
    "ExecuteTime": {
     "end_time": "2025-03-20T19:58:30.016431Z",
     "start_time": "2025-03-20T19:58:29.994689Z"
    }
   },
   "cell_type": "code",
   "source": [
    "model = Sloth()\n",
    "model.load_state_dict(model_dict['model_state_dict'])"
   ],
   "id": "35be8cf96fd8e03d",
   "outputs": [
    {
     "data": {
      "text/plain": [
       "<All keys matched successfully>"
      ]
     },
     "execution_count": 18,
     "metadata": {},
     "output_type": "execute_result"
    }
   ],
   "execution_count": 18
  },
  {
   "metadata": {
    "ExecuteTime": {
     "end_time": "2025-03-20T19:58:38.618404Z",
     "start_time": "2025-03-20T19:58:34.380066Z"
    }
   },
   "cell_type": "code",
   "source": [
    "optimizer = optim.Adam(model.parameters(), lr=0.001)\n",
    "criterion = nn.MSELoss()"
   ],
   "id": "e7e341646f95cfbf",
   "outputs": [],
   "execution_count": 19
  },
  {
   "metadata": {},
   "cell_type": "code",
   "source": "history = train(model, train_loader, optimizer, criterion, num_epochs=20, test_loader=test_loader, epoch_start=6)",
   "id": "6ff6cea89ee71274",
   "outputs": [],
   "execution_count": null
  },
  {
   "metadata": {},
   "cell_type": "markdown",
   "source": "# BetaGo ML Construction",
   "id": "70abe5e9c8dd631d"
  },
  {
   "metadata": {
    "ExecuteTime": {
     "end_time": "2025-03-23T00:26:51.329663Z",
     "start_time": "2025-03-23T00:26:51.314366Z"
    }
   },
   "cell_type": "code",
   "source": [
    "class AlphaU3T(nn.Module):\n",
    "    \"\"\"\n",
    "    The AlphaU3T model takes inspiration from the AlphaGo from Google model for the game go. Specifically, it takes inspiration from the\n",
    "    value model associated with the model. Though, it is learned on a much smaller model\n",
    "    \"\"\"\n",
    "    def __init__(self):\n",
    "        super(AlphaU3T, self).__init__()\n",
    "        \n",
    "        # convolutional layer\n",
    "        self.conv1 = nn.Conv2d(4, 32, kernel_size=3, stride=3, padding=0)\n",
    "        self.relu1 = nn.ReLU()\n",
    "        self.conv2 = nn.Conv2d(32, 64, kernel_size=3, stride=3, padding=0)\n",
    "        self.relu2 = nn.ReLU()\n",
    "        \n",
    "        # dense layers\n",
    "        self.fc1 = nn.Linear(64, 128)\n",
    "        self.relu3 = nn.ReLU()\n",
    "        self.fc2 = nn.Linear(128, 64)\n",
    "        self.relu4 = nn.ReLU()\n",
    "        self.fc3 = nn.Linear(64, 1)\n",
    "    \n",
    "    def forward(self, x):\n",
    "        \"\"\"\n",
    "        Forward Method\n",
    "        \"\"\"\n",
    "        x = x.float()\n",
    "        \n",
    "        # convolutional layer\n",
    "        x = self.conv1(x)\n",
    "        x = self.relu1(x)\n",
    "        x = self.conv2(x)\n",
    "        x = self.relu2(x)\n",
    "        \n",
    "        # flatten\n",
    "        x = t.flatten(x, start_dim=1) \n",
    "        \n",
    "        # dense layers\n",
    "        x = self.fc1(x)\n",
    "        x = self.relu3(x)\n",
    "        x = self.fc2(x)\n",
    "        x = self.relu4(x)\n",
    "        x = self.fc3(x)\n",
    "        \n",
    "        return x"
   ],
   "id": "51a29562995a8af6",
   "outputs": [],
   "execution_count": 31
  },
  {
   "metadata": {
    "ExecuteTime": {
     "end_time": "2025-03-23T00:26:53.401331Z",
     "start_time": "2025-03-23T00:26:53.392692Z"
    }
   },
   "cell_type": "code",
   "source": [
    "cnn_model = AlphaU3T()\n",
    "optimizer = optim.Adam(cnn_model.parameters(), lr=0.01)\n",
    "criterion = nn.MSELoss()"
   ],
   "id": "635c7925c2b31575",
   "outputs": [],
   "execution_count": 32
  },
  {
   "metadata": {
    "ExecuteTime": {
     "end_time": "2025-03-23T00:17:53.053975Z",
     "start_time": "2025-03-23T00:14:51.924917Z"
    }
   },
   "cell_type": "code",
   "source": [
    "train_loader = get_local_data_loader('train', True)\n",
    "test_loader = get_local_data_loader('test', True)"
   ],
   "id": "ae21702bd42a24fe",
   "outputs": [
    {
     "data": {
      "text/plain": [
       "Generating train split: 0 examples [00:00, ? examples/s]"
      ],
      "application/vnd.jupyter.widget-view+json": {
       "version_major": 2,
       "version_minor": 0,
       "model_id": "be8e53d50a8b4cb29f6551aefccb28fb"
      }
     },
     "metadata": {},
     "output_type": "display_data"
    },
    {
     "data": {
      "text/plain": [
       "Loading dataset shards:   0%|          | 0/17 [00:00<?, ?it/s]"
      ],
      "application/vnd.jupyter.widget-view+json": {
       "version_major": 2,
       "version_minor": 0,
       "model_id": "bcd3535418f949eaa0398d6143d9f58f"
      }
     },
     "metadata": {},
     "output_type": "display_data"
    },
    {
     "data": {
      "text/plain": [
       "Generating train split: 0 examples [00:00, ? examples/s]"
      ],
      "application/vnd.jupyter.widget-view+json": {
       "version_major": 2,
       "version_minor": 0,
       "model_id": "55de267d50384f6b8818823d2c0a89af"
      }
     },
     "metadata": {},
     "output_type": "display_data"
    }
   ],
   "execution_count": 18
  },
  {
   "metadata": {
    "ExecuteTime": {
     "end_time": "2025-03-23T00:23:57.308950Z",
     "start_time": "2025-03-23T00:23:55.308495Z"
    }
   },
   "cell_type": "code",
   "source": "example = next(iter(train_loader))",
   "id": "b3a8545ef312cec7",
   "outputs": [],
   "execution_count": 25
  },
  {
   "metadata": {
    "ExecuteTime": {
     "end_time": "2025-03-23T00:25:27.349548Z",
     "start_time": "2025-03-23T00:25:27.343075Z"
    }
   },
   "cell_type": "code",
   "source": [
    "tensor_example = example['tensor_state'][0]\n",
    "print(tensor_example.shape)"
   ],
   "id": "e6081f6db43fee12",
   "outputs": [
    {
     "name": "stdout",
     "output_type": "stream",
     "text": [
      "torch.Size([4, 9, 9])\n"
     ]
    }
   ],
   "execution_count": 30
  },
  {
   "metadata": {
    "jupyter": {
     "is_executing": true
    },
    "ExecuteTime": {
     "start_time": "2025-03-23T00:29:19.161637Z"
    }
   },
   "cell_type": "code",
   "source": "history_cnn = train(cnn_model, train_loader, optimizer, criterion, num_epochs=5, test_loader=test_loader, epoch_start=6)",
   "id": "bfd00660b91e372f",
   "outputs": [
    {
     "name": "stderr",
     "output_type": "stream",
     "text": [
      "1583it [02:34, 10.46it/s]"
     ]
    }
   ],
   "execution_count": null
  },
  {
   "metadata": {},
   "cell_type": "markdown",
   "source": [
    "# Understanding Data Conversion\n",
    "I am having trouble with the tensors in the dataset. I realized the issue was with loading datasets as tensors from the parquet file, the solution is to set the format of the dataset to torch when loading."
   ],
   "id": "cdbd96a8412cad21"
  },
  {
   "metadata": {},
   "cell_type": "code",
   "outputs": [
    {
     "data": {
      "text/plain": [
       "Map:   0%|          | 0/10 [00:00<?, ? examples/s]"
      ],
      "application/vnd.jupyter.widget-view+json": {
       "version_major": 2,
       "version_minor": 0,
       "model_id": "2a3b116f5daf4cebb25985e8ab32c16f"
      }
     },
     "metadata": {},
     "output_type": "display_data"
    },
    {
     "name": "stdout",
     "output_type": "stream",
     "text": [
      "Column 'state': string\n",
      "Column 'num_wins': int64\n",
      "Column 'num_draws': int64\n",
      "Column 'num_losses': int64\n",
      "Column 'tensor_state': list\n",
      "Column 'score': float32\n"
     ]
    }
   ],
   "execution_count": 131,
   "source": [
    "train_test = train[:10]\n",
    "train_test_dataset = Dataset.from_dict(train_test)\n",
    "\n",
    "tensor_dataset = get_tensor_dataset(train_test_dataset)"
   ],
   "id": "e6e4844fca94dc2c"
  },
  {
   "metadata": {},
   "cell_type": "code",
   "outputs": [
    {
     "data": {
      "text/plain": [
       "Map:   0%|          | 0/10 [00:00<?, ? examples/s]"
      ],
      "application/vnd.jupyter.widget-view+json": {
       "version_major": 2,
       "version_minor": 0,
       "model_id": "0a7a3fe87e0a433ba4871f2dcbd24397"
      }
     },
     "metadata": {},
     "output_type": "display_data"
    },
    {
     "data": {
      "text/plain": [
       "Creating parquet from Arrow format:   0%|          | 0/1 [00:00<?, ?ba/s]"
      ],
      "application/vnd.jupyter.widget-view+json": {
       "version_major": 2,
       "version_minor": 0,
       "model_id": "7b236f570d36491180aae7a0c546b2a6"
      }
     },
     "metadata": {},
     "output_type": "display_data"
    }
   ],
   "execution_count": 136,
   "source": [
    "make_tensor_dataset(train_test_dataset, 'train_test')\n",
    "loader = get_local_data_loader('train_test')"
   ],
   "id": "c4df577d0475b985"
  },
  {
   "metadata": {},
   "cell_type": "code",
   "outputs": [],
   "execution_count": 137,
   "source": "batch = next(iter(loader))",
   "id": "96c09801d7031029"
  },
  {
   "metadata": {},
   "cell_type": "code",
   "outputs": [
    {
     "name": "stdout",
     "output_type": "stream",
     "text": [
      "<class 'torch.Tensor'>\n"
     ]
    }
   ],
   "execution_count": 138,
   "source": [
    "example = batch['tensor_state'][0]\n",
    "print(type(example))"
   ],
   "id": "187224941e98defb"
  },
  {
   "metadata": {},
   "cell_type": "code",
   "outputs": [
    {
     "name": "stdout",
     "output_type": "stream",
     "text": [
      "torch.Size([4, 81])\n"
     ]
    }
   ],
   "execution_count": 140,
   "source": "print(example.shape)",
   "id": "3157f82d0925ba9d"
  },
  {
   "metadata": {},
   "cell_type": "code",
   "outputs": [
    {
     "name": "stdout",
     "output_type": "stream",
     "text": [
      "tensor([[[1., 0., 0.,  ..., 0., 0., 0.],\n",
      "         [0., 0., 0.,  ..., 0., 0., 1.],\n",
      "         [0., 0., 0.,  ..., 0., 0., 0.],\n",
      "         [1., 1., 1.,  ..., 1., 1., 1.]],\n",
      "\n",
      "        [[1., 0., 0.,  ..., 0., 0., 0.],\n",
      "         [0., 1., 1.,  ..., 1., 0., 0.],\n",
      "         [0., 0., 0.,  ..., 0., 0., 0.],\n",
      "         [1., 1., 1.,  ..., 1., 1., 1.]],\n",
      "\n",
      "        [[0., 0., 0.,  ..., 0., 0., 0.],\n",
      "         [0., 0., 0.,  ..., 0., 0., 0.],\n",
      "         [0., 0., 0.,  ..., 0., 0., 0.],\n",
      "         [0., 0., 0.,  ..., 0., 0., 0.]],\n",
      "\n",
      "        ...,\n",
      "\n",
      "        [[0., 0., 1.,  ..., 1., 1., 1.],\n",
      "         [0., 0., 0.,  ..., 0., 0., 0.],\n",
      "         [0., 0., 0.,  ..., 0., 0., 0.],\n",
      "         [1., 1., 1.,  ..., 1., 1., 1.]],\n",
      "\n",
      "        [[0., 0., 0.,  ..., 0., 0., 1.],\n",
      "         [0., 0., 0.,  ..., 0., 0., 0.],\n",
      "         [0., 0., 0.,  ..., 0., 0., 0.],\n",
      "         [0., 0., 0.,  ..., 0., 0., 0.]],\n",
      "\n",
      "        [[0., 0., 0.,  ..., 0., 0., 0.],\n",
      "         [0., 0., 0.,  ..., 0., 0., 0.],\n",
      "         [0., 0., 0.,  ..., 0., 0., 0.],\n",
      "         [0., 0., 0.,  ..., 0., 0., 0.]]]) torch.Size([10, 4, 81])\n",
      "tensor([[1., 0., 0.,  ..., 1., 1., 1.],\n",
      "        [1., 0., 0.,  ..., 1., 1., 1.],\n",
      "        [0., 0., 0.,  ..., 0., 0., 0.],\n",
      "        ...,\n",
      "        [0., 0., 1.,  ..., 1., 1., 1.],\n",
      "        [0., 0., 0.,  ..., 0., 0., 0.],\n",
      "        [0., 0., 0.,  ..., 0., 0., 0.]]) torch.Size([10, 324])\n",
      "tensor([[-0.0249],\n",
      "        [-0.0343],\n",
      "        [-0.0330],\n",
      "        [-0.0233],\n",
      "        [-0.0146],\n",
      "        [-0.0203],\n",
      "        [-0.0236],\n",
      "        [-0.0324],\n",
      "        [-0.0169],\n",
      "        [-0.0175]], grad_fn=<AddmmBackward0>)\n"
     ]
    }
   ],
   "execution_count": 149,
   "source": [
    "tensors = batch['tensor_state']\n",
    "print(model(tensors))"
   ],
   "id": "e81df9a495a70af9"
  },
  {
   "metadata": {},
   "cell_type": "markdown",
   "source": "# Evaluation",
   "id": "449403f2c4edeb68"
  },
  {
   "metadata": {},
   "cell_type": "code",
   "outputs": [],
   "execution_count": null,
   "source": "test_loader = get_local_data_loader('test')",
   "id": "468b049fedb8f5c5"
  },
  {
   "metadata": {},
   "cell_type": "code",
   "outputs": [],
   "execution_count": null,
   "source": "evaluate(model, test_loader)",
   "id": "12949e2aa7a3032f"
  },
  {
   "metadata": {},
   "cell_type": "markdown",
   "source": "# Visualization",
   "id": "426be0494a766ed4"
  },
  {
   "metadata": {
    "ExecuteTime": {
     "end_time": "2025-03-20T16:36:17.762978Z",
     "start_time": "2025-03-20T16:36:14.619991Z"
    }
   },
   "cell_type": "code",
   "source": "test_set = get_local_dataset('test')\n",
   "id": "bf8961d00abfaf3e",
   "outputs": [
    {
     "name": "stdout",
     "output_type": "stream",
     "text": [
      "Dataset({\n",
      "    features: ['tensor_state', 'score'],\n",
      "    num_rows: 1600367\n",
      "})\n"
     ]
    }
   ],
   "execution_count": 3
  },
  {
   "metadata": {
    "ExecuteTime": {
     "end_time": "2025-03-20T16:36:40.276615Z",
     "start_time": "2025-03-20T16:36:38.178443Z"
    }
   },
   "cell_type": "code",
   "source": "scores = test_set['score']",
   "id": "32e01baf42f62891",
   "outputs": [],
   "execution_count": 4
  },
  {
   "metadata": {
    "ExecuteTime": {
     "end_time": "2025-03-20T16:41:06.665843Z",
     "start_time": "2025-03-20T16:41:06.660990Z"
    }
   },
   "cell_type": "code",
   "source": [
    "import matplotlib.pyplot as plt\n",
    "import numpy as np"
   ],
   "id": "cb393ceca1552bea",
   "outputs": [],
   "execution_count": 9
  },
  {
   "metadata": {
    "ExecuteTime": {
     "end_time": "2025-03-20T16:42:07.773627Z",
     "start_time": "2025-03-20T16:42:05.066250Z"
    }
   },
   "cell_type": "code",
   "source": [
    "print(scores)\n",
    "counts, bins = np.histogram(scores)\n",
    "plt.stairs(counts, bins)\n",
    "plt.show()\n"
   ],
   "id": "5be1f71b70c9f4b3",
   "outputs": [
    {
     "name": "stderr",
     "output_type": "stream",
     "text": [
      "IOPub data rate exceeded.\n",
      "The Jupyter server will temporarily stop sending output\n",
      "to the client in order to avoid crashing it.\n",
      "To change this limit, set the config variable\n",
      "`--ServerApp.iopub_data_rate_limit`.\n",
      "\n",
      "Current values:\n",
      "ServerApp.iopub_data_rate_limit=1000000.0 (bytes/sec)\n",
      "ServerApp.rate_limit_window=3.0 (secs)\n",
      "\n"
     ]
    },
    {
     "data": {
      "text/plain": [
       "<Figure size 640x480 with 1 Axes>"
      ],
      "image/png": "[encoded data removed]"
     },
     "metadata": {},
     "output_type": "display_data"
    }
   ],
   "execution_count": 12
  },
  {
   "metadata": {},
   "cell_type": "code",
   "outputs": [],
   "execution_count": null,
   "source": "",
   "id": "afb9244d92bd36cb"
  }
 ],
 "metadata": {
  "kernelspec": {
   "display_name": "Python 3",
   "language": "python",
   "name": "python3"
  },
  "language_info": {
   "codemirror_mode": {
    "name": "ipython",
    "version": 2
   },
   "file_extension": ".py",
   "mimetype": "text/x-python",
   "name": "python",
   "nbconvert_exporter": "python",
   "pygments_lexer": "ipython2",
   "version": "2.7.6"
  }
 },
 "nbformat": 4,
 "nbformat_minor": 5
}
